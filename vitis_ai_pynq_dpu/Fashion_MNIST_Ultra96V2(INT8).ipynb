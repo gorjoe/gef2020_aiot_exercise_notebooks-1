{
 "cells": [
  {
   "cell_type": "markdown",
   "metadata": {},
   "source": [
    "# Import Required Packages"
   ]
  },
  {
   "cell_type": "markdown",
   "metadata": {},
   "source": [
    "# Import DPU Overlay and Loading the .xmodel"
   ]
  },
  {
   "cell_type": "code",
   "execution_count": 26,
   "metadata": {},
   "outputs": [],
   "source": [
    "import numpy as np\n",
    "from matplotlib import pyplot as plt\n",
    "from tqdm import tqdm\n",
    "import mnist_reader"
   ]
  },
  {
   "cell_type": "code",
   "execution_count": 27,
   "metadata": {},
   "outputs": [],
   "source": [
    "#Type your code here\n",
    "\n",
    "#Import the DPU Overlay and load the .xmodel\n",
    "from pynq_dpu import DpuOverlay \n",
    "overlay = DpuOverlay(\"dpu.bit\")\n",
    "overlay.load_model(\"quantized_model.xmodel\") \n",
    "\n",
    "\n"
   ]
  },
  {
   "cell_type": "markdown",
   "metadata": {},
   "source": [
    "# Loading the Fashion MNIST Dataset"
   ]
  },
  {
   "cell_type": "code",
   "execution_count": 28,
   "metadata": {},
   "outputs": [],
   "source": [
    "fashion_mnist_labels = [\"T-shirt/top\", \n",
    "                            \"Trouser\",\n",
    "                            \"Pullover\",\n",
    "                            \"Dress\",\n",
    "                            \"Coat\",\n",
    "                            \"Sandal\", \n",
    "                            \"Shirt\",\n",
    "                            \"Sneaker\",\n",
    "                            \"Bag\",\n",
    "                            \"Ankle boot\"]"
   ]
  },
  {
   "cell_type": "code",
   "execution_count": 29,
   "metadata": {},
   "outputs": [
    {
     "name": "stdout",
     "output_type": "stream",
     "text": [
      "Total number of test images: 10000\n",
      "Shape of each image: (784,)\n"
     ]
    }
   ],
   "source": [
    "#Type your code here\n",
    "\n",
    "path_to_data = 'data/fashion'\n",
    "\n",
    "x_test, y_test = mnist_reader.load_mnist(path_to_data, kind='t10k')\n",
    "x_test = x_test.astype('float32')/255 #Convert the data type to float32 and perform feature scaling\n",
    "\n",
    "\n",
    "print(\"Total number of test images: {}\".format(x_test.shape[0]))\n",
    "print(\"Shape of each image: {}\".format(x_test.shape[1:]))\n"
   ]
  },
  {
   "cell_type": "markdown",
   "metadata": {},
   "source": [
    "# Running the Quantized Model"
   ]
  },
  {
   "cell_type": "code",
   "execution_count": 30,
   "metadata": {},
   "outputs": [
    {
     "name": "stdout",
     "output_type": "stream",
     "text": [
      "Input shape: [1, 28, 28, 1]\n",
      "Output shape: [1, 10]\n"
     ]
    }
   ],
   "source": [
    "#Type your code here\n",
    "\n",
    "dpu_runner = overlay.runner #Access the Runner object\n",
    "\n",
    "inputTensors = dpu_runner.get_input_tensors() #Get input tensor\n",
    "outputTensors = dpu_runner.get_output_tensors() #Get output tensor\n",
    "\n",
    "shapeIn = inputTensors[0].dims #Get input tensor shape\n",
    "shapeOut = outputTensors[0].dims #Get output tensor shape\n",
    "\n",
    "print('Input shape:', shapeIn)\n",
    "print('Output shape:', shapeOut)"
   ]
  },
  {
   "cell_type": "code",
   "execution_count": 31,
   "metadata": {},
   "outputs": [
    {
     "name": "stdout",
     "output_type": "stream",
     "text": [
      "[[-14.   -5.  -11.   -7.5  -3.   -2.  -12.5   3.5  -5.    9.5]]\n"
     ]
    }
   ],
   "source": [
    "input_data = x_test[0].reshape(shapeIn)\n",
    "output_data = np.empty(shapeOut, dtype=np.float32)\n",
    "job_id = dpu_runner.execute_async(input_data, output_data)\n",
    "dpu_runner.wait(job_id)\n",
    "print(output_data)"
   ]
  },
  {
   "cell_type": "code",
   "execution_count": 32,
   "metadata": {},
   "outputs": [
    {
     "data": {
      "text/plain": [
       "'Ankle boot'"
      ]
     },
     "execution_count": 32,
     "metadata": {},
     "output_type": "execute_result"
    }
   ],
   "source": [
    "fashion_mnist_labels[output_data.ravel().argmax()]"
   ]
  },
  {
   "cell_type": "code",
   "execution_count": 34,
   "metadata": {},
   "outputs": [
    {
     "name": "stderr",
     "output_type": "stream",
     "text": [
      "100%|██████████| 10000/10000 [00:07<00:00, 1413.78it/s]"
     ]
    },
    {
     "name": "stdout",
     "output_type": "stream",
     "text": [
      "accuracy: 0.9166\n"
     ]
    },
    {
     "name": "stderr",
     "output_type": "stream",
     "text": [
      "\n"
     ]
    }
   ],
   "source": [
    "#Type your code here\n",
    "\n",
    "num_pics = x_test.shape[0] #Number of images in the test set\n",
    "prediction = np.zeros(num_pics, dtype=np.int8)    #Initiate a np.zeros() array to store the predicted class index\n",
    "output_data = np.empty(shapeOut, dtype=np.float32) #Initiate an np.empty() array to store the FPGA output\n",
    "\n",
    "#A for loop to loop through the images and make predictions\n",
    "for i in tqdm(range(num_pics)):\n",
    "    input_data = x_test[i].reshape(shapeIn)   #The input image, reshape it to shapeIn\n",
    "    job_id = dpu_runner.execute_async(input_data, output_data)   #Make a prediction by calling execute_async()\n",
    "    dpu_runner.wait(job_id) #Wait until the job is complete\n",
    "    score = output_data.ravel()   #Flatten the output_data using .ravel()\n",
    "    prediction[i] = score.argmax()   #Find the index of maximum score as our prediction, using .argmax()\n",
    "    \n",
    "print('accuracy:', np.mean(prediction == y_test))"
   ]
  },
  {
   "cell_type": "markdown",
   "metadata": {},
   "source": [
    "# Timing Operations"
   ]
  },
  {
   "cell_type": "code",
   "execution_count": 35,
   "metadata": {},
   "outputs": [],
   "source": [
    "input_data = x_test[0].reshape(shapeIn)\n",
    "output_data = np.empty(shapeOut, dtype=np.float32)"
   ]
  },
  {
   "cell_type": "code",
   "execution_count": 37,
   "metadata": {},
   "outputs": [
    {
     "data": {
      "text/plain": [
       "<TimeitResult : 1 loop, best of 1000: 650 µs per loop>"
      ]
     },
     "execution_count": 37,
     "metadata": {},
     "output_type": "execute_result"
    }
   ],
   "source": [
    "%%timeit -o -r 1000 -n 1 -q\n",
    "\n",
    "#Type your code here\n",
    "job_id = dpu_runner.execute_async(input_data, output_data) #Make a prediction and time it, remember to call the .wait() method\n",
    "dpu_runner.wait(job_id)"
   ]
  },
  {
   "cell_type": "code",
   "execution_count": 38,
   "metadata": {},
   "outputs": [
    {
     "name": "stdout",
     "output_type": "stream",
     "text": [
      "FPS: 1518.0210533599904\n"
     ]
    }
   ],
   "source": [
    "#Calculate the Frame Rate in Frames Per Second(FPS)\n",
    "result = _\n",
    "print('FPS:',1/np.mean(result.all_runs))"
   ]
  },
  {
   "cell_type": "markdown",
   "metadata": {},
   "source": [
    "# Plotting the Result"
   ]
  },
  {
   "cell_type": "code",
   "execution_count": 39,
   "metadata": {},
   "outputs": [
    {
     "data": {
      "image/png": "[encoded data removed]",
      "text/plain": [
       "<matplotlib.figure.Figure at 0x7f6078bac8>"
      ]
     },
     "metadata": {},
     "output_type": "display_data"
    }
   ],
   "source": [
    "figure = plt.figure(figsize=(20,8))\n",
    "\n",
    "for i, index in enumerate(np.random.choice(x_test.shape[0], size=15, replace=False)):\n",
    "    ax = figure.add_subplot(3, 5, i + 1, xticks=[], yticks=[])\n",
    "   \n",
    "    ax.imshow(x_test[index].reshape(28,28), cmap='gray')\n",
    "    predict_index = prediction[index]\n",
    "    true_index = y_test[index]\n",
    "   \n",
    "    ax.set_title(\"{} ({})\".format(fashion_mnist_labels[predict_index], \n",
    "                fashion_mnist_labels[true_index]),\n",
    "                color=(\"green\" if predict_index == true_index else \"red\"))"
   ]
  },
  {
   "cell_type": "code",
   "execution_count": null,
   "metadata": {},
   "outputs": [],
   "source": []
  }
 ],
 "metadata": {
  "kernelspec": {
   "display_name": "Python 3",
   "language": "python",
   "name": "python3"
  },
  "language_info": {
   "codemirror_mode": {
    "name": "ipython",
    "version": 3
   },
   "file_extension": ".py",
   "mimetype": "text/x-python",
   "name": "python",
   "nbconvert_exporter": "python",
   "pygments_lexer": "ipython3",
   "version": "3.6.5"
  }
 },
 "nbformat": 4,
 "nbformat_minor": 2
}
