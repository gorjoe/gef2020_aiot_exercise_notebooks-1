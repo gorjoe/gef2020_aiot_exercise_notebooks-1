{
 "cells": [
  {
   "cell_type": "markdown",
   "metadata": {
    "id": "I2KP5gAzZ9U6"
   },
   "source": [
    "# Exercise 1"
   ]
  },
  {
   "cell_type": "code",
   "execution_count": null,
   "metadata": {
    "colab": {
     "base_uri": "https://localhost:8080/"
    },
    "id": "G44U1WpZZ9U-",
    "outputId": "134f885c-50fd-44e3-dc55-c1ed9d5ea2dd"
   },
   "outputs": [
    {
     "name": "stdout",
     "output_type": "stream",
     "text": [
      "What is your name?13\n",
      "Hi, 13!\n"
     ]
    }
   ],
   "source": [
    "name = input('What is your name?')\n",
    "print('Hi, ' + name + \"!\")"
   ]
  },
  {
   "cell_type": "code",
   "execution_count": null,
   "metadata": {
    "colab": {
     "base_uri": "https://localhost:8080/"
    },
    "id": "S-38QIaFQacZ",
    "outputId": "273aae03-c0fd-4faf-8fa2-2ac487137a11"
   },
   "outputs": [
    {
     "name": "stdout",
     "output_type": "stream",
     "text": [
      "I'm Joe\n"
     ]
    }
   ],
   "source": [
    "print('I\\'m Joe')"
   ]
  },
  {
   "cell_type": "markdown",
   "metadata": {
    "id": "OL_g0JKfZ9VE"
   },
   "source": [
    "# Exercise2"
   ]
  },
  {
   "cell_type": "code",
   "execution_count": null,
   "metadata": {
    "colab": {
     "base_uri": "https://localhost:8080/"
    },
    "id": "9QWTc4XbZ9VF",
    "outputId": "8207ca00-b256-4001-8045-1323c9d9aa75"
   },
   "outputs": [
    {
     "name": "stdout",
     "output_type": "stream",
     "text": [
      "<class 'str'>\n",
      "<class 'int'>\n"
     ]
    }
   ],
   "source": [
    "b = 12345\n",
    "a = str(b)\n",
    "print(type(a))\n",
    "print(type(b))"
   ]
  },
  {
   "cell_type": "code",
   "execution_count": null,
   "metadata": {
    "colab": {
     "base_uri": "https://localhost:8080/"
    },
    "id": "jDTr_lCnZ9VJ",
    "outputId": "4f882db4-efb3-412e-9a56-78b464c0caa6"
   },
   "outputs": [
    {
     "name": "stdout",
     "output_type": "stream",
     "text": [
      "False\n",
      "True\n",
      "True\n",
      "False\n",
      "True\n",
      "True\n",
      "True\n"
     ]
    }
   ],
   "source": [
    "print(bool(''))\n",
    "print(bool('abc'))\n",
    "print(bool(1))\n",
    "print(bool(0))\n",
    "print(bool(0.1))\n",
    "print(bool('0'))\n",
    "print(bool('$#%@#$%'))"
   ]
  },
  {
   "cell_type": "markdown",
   "metadata": {
    "id": "of0fLQn7Z9VM"
   },
   "source": [
    "# Exercise3\n"
   ]
  },
  {
   "cell_type": "code",
   "execution_count": null,
   "metadata": {
    "colab": {
     "base_uri": "https://localhost:8080/"
    },
    "id": "kIFZzB0LZ9VN",
    "outputId": "5f8e33f4-c342-4257-b833-eeb5dcd1ffc9"
   },
   "outputs": [
    {
     "data": {
      "text/plain": [
       "580.23"
      ]
     },
     "execution_count": 45,
     "metadata": {
      "tags": []
     },
     "output_type": "execute_result"
    }
   ],
   "source": [
    "a = 123.45\n",
    "b = '456.78'\n",
    "a + float(b)"
   ]
  },
  {
   "cell_type": "code",
   "execution_count": null,
   "metadata": {
    "id": "OCkUWcfIZ9VR"
   },
   "outputs": [],
   "source": []
  },
  {
   "cell_type": "markdown",
   "metadata": {
    "id": "6mq1UBS9Z9VU"
   },
   "source": [
    "# Exercise4"
   ]
  },
  {
   "cell_type": "code",
   "execution_count": null,
   "metadata": {
    "colab": {
     "base_uri": "https://localhost:8080/"
    },
    "id": "W_kwTE6OZ9VV",
    "outputId": "1b54ce5d-3b41-4e8a-c8d6-3cc5ffba608b"
   },
   "outputs": [
    {
     "data": {
      "text/plain": [
       "210"
      ]
     },
     "execution_count": 46,
     "metadata": {
      "tags": []
     },
     "output_type": "execute_result"
    }
   ],
   "source": [
    "John = 60\n",
    "Matt = 70\n",
    "Brain = 80\n",
    "\n",
    "John + Matt + Brain"
   ]
  },
  {
   "cell_type": "markdown",
   "metadata": {
    "id": "9lrFLnwRZ9VY"
   },
   "source": [
    "# Exercise 5"
   ]
  },
  {
   "cell_type": "code",
   "execution_count": null,
   "metadata": {
    "colab": {
     "base_uri": "https://localhost:8080/"
    },
    "id": "rMOhYZejZ9VZ",
    "outputId": "edbd65fd-d511-4f38-8fd3-1d98cbd5f9f0"
   },
   "outputs": [
    {
     "name": "stdout",
     "output_type": "stream",
     "text": [
      "[1, 2, 3, 4, 5, 6, 7, 8, 9, 10]\n",
      "None\n"
     ]
    }
   ],
   "source": [
    "ls1 = [1,2,3,4,5]\n",
    "ls2 = [6,7,8,9,10]\n",
    "print(ls1 + ls2)\n",
    "print(ls1.append(6))"
   ]
  },
  {
   "cell_type": "markdown",
   "metadata": {
    "id": "Fj5Mxf5UZ9Vd"
   },
   "source": [
    "# Exercise 6"
   ]
  },
  {
   "cell_type": "code",
   "execution_count": null,
   "metadata": {
    "colab": {
     "base_uri": "https://localhost:8080/",
     "height": 36
    },
    "id": "TU1zRHOLZ9Vf",
    "outputId": "27867947-4816-4f92-bddf-efa7d2a3c1fd"
   },
   "outputs": [
    {
     "data": {
      "application/vnd.google.colaboratory.intrinsic+json": {
       "type": "string"
      },
      "text/plain": [
       "'Explicit'"
      ]
     },
     "execution_count": 68,
     "metadata": {
      "tags": []
     },
     "output_type": "execute_result"
    }
   ],
   "source": [
    "sentence = \"Beautiful is better than ugly. Explicit is better than implicit.\"\n",
    "sentence.split('.')[1].split()[0]"
   ]
  },
  {
   "cell_type": "code",
   "execution_count": null,
   "metadata": {
    "colab": {
     "base_uri": "https://localhost:8080/"
    },
    "id": "sA7etwODLN61",
    "outputId": "9ddab39a-03aa-4010-8850-af8f0611acb2"
   },
   "outputs": [
    {
     "data": {
      "text/plain": [
       "64"
      ]
     },
     "execution_count": 69,
     "metadata": {
      "tags": []
     },
     "output_type": "execute_result"
    }
   ],
   "source": [
    "len(sentence)"
   ]
  },
  {
   "cell_type": "markdown",
   "metadata": {
    "id": "iDG62IqhZ9Vn"
   },
   "source": [
    "# Exercise7"
   ]
  },
  {
   "cell_type": "code",
   "execution_count": null,
   "metadata": {
    "colab": {
     "base_uri": "https://localhost:8080/",
     "height": 132
    },
    "id": "-BpuGBxKZ9Vo",
    "outputId": "495aa857-9f7a-4556-9708-7537e232e704"
   },
   "outputs": [
    {
     "ename": "SyntaxError",
     "evalue": "ignored",
     "output_type": "error",
     "traceback": [
      "\u001b[0;36m  File \u001b[0;32m\"<ipython-input-71-d23ec3d4210c>\"\u001b[0;36m, line \u001b[0;32m2\u001b[0m\n\u001b[0;31m    a=[1] = 200\u001b[0m\n\u001b[0m     ^\u001b[0m\n\u001b[0;31mSyntaxError\u001b[0m\u001b[0;31m:\u001b[0m can't assign to literal\n"
     ]
    }
   ],
   "source": [
    "a = (1,2,3,4,5)\n",
    "a=[1] = 200"
   ]
  },
  {
   "cell_type": "markdown",
   "metadata": {
    "id": "zZGm0kx5Z9Vs"
   },
   "source": [
    "# Exercise8 Like hashmap\n"
   ]
  },
  {
   "cell_type": "code",
   "execution_count": null,
   "metadata": {
    "colab": {
     "base_uri": "https://localhost:8080/",
     "height": 36
    },
    "id": "fhFtP0NMZ9Vt",
    "outputId": "701e2fc5-3ebb-4491-a980-0863e3a1ad3e"
   },
   "outputs": [
    {
     "data": {
      "application/vnd.google.colaboratory.intrinsic+json": {
       "type": "string"
      },
      "text/plain": [
       "'No such key'"
      ]
     },
     "execution_count": 74,
     "metadata": {
      "tags": []
     },
     "output_type": "execute_result"
    }
   ],
   "source": [
    "student = {'name': 'Mary', 'age': 22, 'major': 'business'}\n",
    "student.get('abc', 'No such key')"
   ]
  },
  {
   "cell_type": "code",
   "execution_count": null,
   "metadata": {
    "colab": {
     "base_uri": "https://localhost:8080/",
     "height": 36
    },
    "id": "y1RpnXh4MiWS",
    "outputId": "c847ae01-35fe-4caa-937e-7160e027ed92"
   },
   "outputs": [
    {
     "data": {
      "application/vnd.google.colaboratory.intrinsic+json": {
       "type": "string"
      },
      "text/plain": [
       "'Peter'"
      ]
     },
     "execution_count": 76,
     "metadata": {
      "tags": []
     },
     "output_type": "execute_result"
    }
   ],
   "source": [
    "student = {'name': 'Mary', 'age': 22, 'name': 'Peter'}\n",
    "student.get('name')"
   ]
  },
  {
   "cell_type": "markdown",
   "metadata": {
    "id": "ng9CbysaZ9Vw"
   },
   "source": [
    "# Exercise9"
   ]
  },
  {
   "cell_type": "code",
   "execution_count": null,
   "metadata": {
    "colab": {
     "base_uri": "https://localhost:8080/"
    },
    "id": "8x_4z2U0Z9Vy",
    "outputId": "2ee9a9cc-b8b0-4ecb-f90a-3440c805c313"
   },
   "outputs": [
    {
     "name": "stdout",
     "output_type": "stream",
     "text": [
      "Inside the code block\n",
      "Inside the code block\n",
      "Inside the code block\n",
      "Inside the code block\n",
      "Inside the code block\n",
      "Inside the code block\n",
      "Inside the code block\n",
      "Inside the code block\n",
      "Inside the code block\n",
      "Inside the code block\n",
      "Outside the code block\n"
     ]
    }
   ],
   "source": [
    "for i in range(1,11):\n",
    "    print('Inside the code block')\n",
    "print('Outside the code block')"
   ]
  },
  {
   "cell_type": "code",
   "execution_count": null,
   "metadata": {
    "colab": {
     "base_uri": "https://localhost:8080/"
    },
    "id": "AR-ELqvANQqo",
    "outputId": "95fff761-f11e-4e63-81a1-ba5d27a8fb95"
   },
   "outputs": [
    {
     "name": "stdout",
     "output_type": "stream",
     "text": [
      "Enter an integer: 3\n",
      "Number is less than 5!\n",
      "Good bye!\n"
     ]
    }
   ],
   "source": [
    "number = int(input(\"Enter an integer: \"))\n",
    "if number < 5:\n",
    "    print(\"Number is less than 5!\")\n",
    "elif number > 5:\n",
    "    print(\"Number is greater than 5!\")\n",
    "else:\n",
    "    print(\"Number equal to 5.\")\n",
    "print(\"Good bye!\")"
   ]
  },
  {
   "cell_type": "code",
   "execution_count": null,
   "metadata": {
    "colab": {
     "base_uri": "https://localhost:8080/"
    },
    "id": "AKyOu0A7ik7E",
    "outputId": "24688b05-b7d4-4c78-d6a2-693b52a3625c"
   },
   "outputs": [
    {
     "name": "stdout",
     "output_type": "stream",
     "text": [
      "Please enter a phone number456\n",
      "The input number is:  456\n",
      "It's not is a vaild number\n"
     ]
    }
   ],
   "source": [
    "number = (input(\"Please enter a phone number\"))\n",
    "print('The input number is: ', number)\n",
    "if number.isdigit() and len(number) == 8 and number[0] in '23569':\n",
    "    print('It\\'s is a vaild number')\n",
    "else:\n",
    "    print('It\\'s not is a vaild number')\n"
   ]
  },
  {
   "cell_type": "markdown",
   "metadata": {
    "id": "FH80WJizZ9V0"
   },
   "source": [
    "# Exercise10"
   ]
  },
  {
   "cell_type": "code",
   "execution_count": null,
   "metadata": {
    "colab": {
     "base_uri": "https://localhost:8080/"
    },
    "id": "7gY4EC6VHUEd",
    "outputId": "1beee348-69ce-4684-cb0d-ffe8d266efd6"
   },
   "outputs": [
    {
     "name": "stdout",
     "output_type": "stream",
     "text": [
      "[2, 4, 6]\n"
     ]
    }
   ],
   "source": [
    "numbers = [1,2,3,4,5,6]\n",
    "new_numbers = list()\n",
    "for i in numbers:\n",
    "    if i%2 == 0:\n",
    "        new_numbers.append(i)\n",
    "print(new_numbers)"
   ]
  },
  {
   "cell_type": "code",
   "execution_count": null,
   "metadata": {
    "id": "zq9VVcTdQbdX"
   },
   "outputs": [],
   "source": [
    "number_in=input(\"Please enter a phone number:  \")\n",
    "\n",
    "#print(\"The input number is \"+number_in)\n",
    "\n",
    "first_digit=\"23569\"\n",
    "if len(number_in)==8 and (number_in[0] in first_digit) and number_in.isdigit():\n",
    "    print(\"It is a valid number\")\n",
    "else:\n",
    "    print(\"It is not a valid number\")\n"
   ]
  },
  {
   "cell_type": "markdown",
   "metadata": {
    "id": "7Ncbu487HUEd"
   },
   "source": [
    "# Exercise 11"
   ]
  },
  {
   "cell_type": "code",
   "execution_count": null,
   "metadata": {
    "id": "v8kLViI-QFFe"
   },
   "outputs": [],
   "source": [
    "number_in=input(\"please enter a phone number: \")\n",
    "print(\"The input number is: \"+number_in)\n",
    "\n",
    "first_digit=\"23569\"\n",
    "\n",
    "while not (len(number_in)==8and(number_in[0] in first_digit) and number)in.isdigit():\n",
    "    #case1\n",
    "    print(\"It is not a valid number\")\n",
    "    number_in = input(\"Please enter a phone number: \")\n",
    "    print(\"The input number is \"+ number_in)\n",
    "\n",
    "#case2\n",
    "print(\"It is a valid number\")"
   ]
  },
  {
   "cell_type": "code",
   "execution_count": null,
   "metadata": {
    "id": "7SLb0xcYZ9V1"
   },
   "outputs": [],
   "source": []
  },
  {
   "cell_type": "markdown",
   "metadata": {
    "id": "F6_d7iGHYegB"
   },
   "source": [
    "# Exercise12\n"
   ]
  },
  {
   "cell_type": "code",
   "execution_count": null,
   "metadata": {
    "colab": {
     "base_uri": "https://localhost:8080/",
     "height": 250
    },
    "id": "Ki5FT_M_YhOz",
    "outputId": "7b03da7b-cf80-49ee-9162-61a37344b9c4"
   },
   "outputs": [
    {
     "name": "stdout",
     "output_type": "stream",
     "text": [
      "arr before sorting: [5, 3, 8, 7, 1]\n"
     ]
    },
    {
     "ename": "IndexError",
     "evalue": "ignored",
     "output_type": "error",
     "traceback": [
      "\u001b[0;31m---------------------------------------------------------------------------\u001b[0m",
      "\u001b[0;31mIndexError\u001b[0m                                Traceback (most recent call last)",
      "\u001b[0;32m<ipython-input-6-3de53fdb440a>\u001b[0m in \u001b[0;36m<module>\u001b[0;34m()\u001b[0m\n\u001b[1;32m     10\u001b[0m \u001b[0;32mfor\u001b[0m \u001b[0mi\u001b[0m \u001b[0;32min\u001b[0m \u001b[0mrange\u001b[0m\u001b[0;34m(\u001b[0m\u001b[0;36m1\u001b[0m\u001b[0;34m,\u001b[0m\u001b[0mlen\u001b[0m\u001b[0;34m(\u001b[0m\u001b[0marr\u001b[0m\u001b[0;34m)\u001b[0m\u001b[0;34m)\u001b[0m\u001b[0;34m:\u001b[0m\u001b[0;34m\u001b[0m\u001b[0;34m\u001b[0m\u001b[0m\n\u001b[1;32m     11\u001b[0m     \u001b[0mj\u001b[0m\u001b[0;34m=\u001b[0m\u001b[0mi\u001b[0m\u001b[0;34m\u001b[0m\u001b[0;34m\u001b[0m\u001b[0m\n\u001b[0;32m---> 12\u001b[0;31m     \u001b[0;32mwhile\u001b[0m \u001b[0marr\u001b[0m\u001b[0;34m[\u001b[0m\u001b[0mj\u001b[0m\u001b[0;34m-\u001b[0m\u001b[0;36m1\u001b[0m\u001b[0;34m]\u001b[0m\u001b[0;34m>\u001b[0m\u001b[0marr\u001b[0m\u001b[0;34m[\u001b[0m\u001b[0mj\u001b[0m\u001b[0;34m]\u001b[0m\u001b[0;34m:\u001b[0m\u001b[0;34m\u001b[0m\u001b[0;34m\u001b[0m\u001b[0m\n\u001b[0m\u001b[1;32m     13\u001b[0m         \u001b[0;31m#swap\u001b[0m\u001b[0;34m\u001b[0m\u001b[0;34m\u001b[0m\u001b[0;34m\u001b[0m\u001b[0m\n\u001b[1;32m     14\u001b[0m         \u001b[0marr\u001b[0m\u001b[0;34m[\u001b[0m\u001b[0mj\u001b[0m\u001b[0;34m-\u001b[0m\u001b[0;36m1\u001b[0m\u001b[0;34m]\u001b[0m\u001b[0;34m,\u001b[0m\u001b[0marr\u001b[0m\u001b[0;34m[\u001b[0m\u001b[0mj\u001b[0m\u001b[0;34m]\u001b[0m \u001b[0;34m=\u001b[0m \u001b[0marr\u001b[0m\u001b[0;34m[\u001b[0m\u001b[0mj\u001b[0m\u001b[0;34m]\u001b[0m\u001b[0;34m,\u001b[0m\u001b[0marr\u001b[0m\u001b[0;34m[\u001b[0m\u001b[0mj\u001b[0m\u001b[0;34m-\u001b[0m\u001b[0;36m1\u001b[0m\u001b[0;34m]\u001b[0m\u001b[0;34m\u001b[0m\u001b[0;34m\u001b[0m\u001b[0m\n",
      "\u001b[0;31mIndexError\u001b[0m: list index out of range"
     ]
    }
   ],
   "source": [
    "import numpy as np\n",
    "\n",
    "arr = [5,3,8,7,1]\n",
    "#arr = np.random.randint(0,1000,10) #Uncommment this line to generate an array of random integers\n",
    "\n",
    "print('arr before sorting:', arr)\n",
    "\n",
    "#====================================================\n",
    "#Write your insertion sort here\n",
    "for i in range(1,len(arr)):\n",
    "    j=i\n",
    "    while arr[j-1]>arr[j]:\n",
    "        #swap\n",
    "        arr[j-1],arr[j] = arr[j],arr[j-1]\n",
    "        j-=1\n",
    "\n",
    "#====================================================\n",
    "\n",
    "print('arr after sorting:', arr)"
   ]
  },
  {
   "cell_type": "code",
   "execution_count": null,
   "metadata": {
    "id": "FhnlHbOglAn-"
   },
   "outputs": [],
   "source": []
  }
 ],
 "metadata": {
  "colab": {
   "collapsed_sections": [],
   "name": "Intro_to_Python1_exercise.ipynb",
   "provenance": [],
   "toc_visible": true
  },
  "kernelspec": {
   "display_name": "Python 3",
   "language": "python",
   "name": "python3"
  },
  "language_info": {
   "codemirror_mode": {
    "name": "ipython",
    "version": 3
   },
   "file_extension": ".py",
   "mimetype": "text/x-python",
   "name": "python",
   "nbconvert_exporter": "python",
   "pygments_lexer": "ipython3",
   "version": "3.8.8"
  }
 },
 "nbformat": 4,
 "nbformat_minor": 1
}
