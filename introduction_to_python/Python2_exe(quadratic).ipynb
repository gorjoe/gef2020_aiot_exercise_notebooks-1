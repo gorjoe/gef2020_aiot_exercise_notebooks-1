{
 "cells": [
  {
   "cell_type": "code",
   "execution_count": null,
   "id": "29f1b81b",
   "metadata": {},
   "outputs": [],
   "source": [
    "def quadratic(a,b,c)\n",
    "    delta = b**2 - 4*a*c\n",
    "    \n",
    "    if delta<0\n",
    "        return None\n",
    "    else:\n",
    "        x1 = (-b + (delta) ** (1/2)) / (2*a)\n",
    "        x2 = (-b - (delta) ** (1/2)) / (2*a)\n",
    "        return x1,x2"
   ]
  }
 ],
 "metadata": {
  "kernelspec": {
   "display_name": "Python 3",
   "language": "python",
   "name": "python3"
  },
  "language_info": {
   "codemirror_mode": {
    "name": "ipython",
    "version": 3
   },
   "file_extension": ".py",
   "mimetype": "text/x-python",
   "name": "python",
   "nbconvert_exporter": "python",
   "pygments_lexer": "ipython3",
   "version": "3.8.8"
  }
 },
 "nbformat": 4,
 "nbformat_minor": 5
}
