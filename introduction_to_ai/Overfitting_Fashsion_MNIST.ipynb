{
 "cells": [
  {
   "cell_type": "markdown",
   "metadata": {
    "id": "OgMrJA3fbjG7"
   },
   "source": [
    "# **Overfitting**\n",
    "\n",
    "In the last notebook, you have implemented a CNN model for the Fashion MNIST dataset, by adding more layers and parameters, you should see improvement in the training set accuracy. But can your model generalize well to the unseen data? Can you see a degrade in the test set accuracy when adding more parameters? This is a phenomenon called **overfitting**.\n",
    "\n",
    "\\\n",
    "In this notebook, you will experiment with different regularization techniques (i.e. dropout and L1/L2 regularizations) to deal with overfitting.\n",
    "You are going to compare the ***underfitted model***, ***overfitted model*** and the ***regularized model*** with the ***baseline model***.\n",
    "\n",
    "\\\n",
    "**Instruction: type your code when you see 'Type your code here' in comments**"
   ]
  },
  {
   "cell_type": "code",
   "execution_count": null,
   "metadata": {
    "colab": {
     "base_uri": "https://localhost:8080/"
    },
    "id": "9DiswJ1NHBbo",
    "outputId": "3c7eed38-96e0-4d14-ab25-3f781f9190e6"
   },
   "outputs": [],
   "source": [
    "import tensorflow as tf\n",
    "print(\"Num GPUs Available: \", len(tf.config.list_physical_devices('GPU')))\n",
    "print('Tensorflow version:',tf.__version__)\n",
    "import numpy as np\n",
    "import pandas as pd\n",
    "from matplotlib import pyplot as plt\n",
    "%matplotlib inline\n",
    "plt.style.use('seaborn')\n",
    "import seaborn as sns\n",
    "from sklearn.model_selection import train_test_split \n",
    "import os\n",
    "print('Keras version:', tf.keras.__version__)\n",
    "\n",
    "from tensorflow.keras import Sequential\n",
    "from tensorflow.keras.layers import *\n",
    "from tensorflow.keras.optimizers import *\n",
    "from tensorflow.keras.callbacks import ModelCheckpoint, TensorBoard, EarlyStopping"
   ]
  },
  {
   "cell_type": "markdown",
   "metadata": {
    "id": "7R2WHoreh_8V"
   },
   "source": [
    "# Loading the Fashion MNIST dataset"
   ]
  },
  {
   "cell_type": "code",
   "execution_count": null,
   "metadata": {
    "id": "g5gUoWwWHWBU"
   },
   "outputs": [],
   "source": [
    "(x_train, y_train), (x_test, y_test) = tf.keras.datasets.fashion_mnist.load_data()"
   ]
  },
  {
   "cell_type": "code",
   "execution_count": null,
   "metadata": {
    "colab": {
     "base_uri": "https://localhost:8080/"
    },
    "id": "iFgSMzXpkwhN",
    "outputId": "d15bc360-6a90-4647-86f5-429213c6ce6d"
   },
   "outputs": [],
   "source": [
    "print(f'Shape of an image: {x_train[0].shape}')\n",
    "print(f'Max pixel value: {x_train.max()}')\n",
    "print(f'Min pixel value: {x_train.min()}')\n",
    "print(f'Classes: {np.unique(y_train)}')"
   ]
  },
  {
   "cell_type": "code",
   "execution_count": null,
   "metadata": {
    "id": "crQSkyUtiawn"
   },
   "outputs": [],
   "source": [
    "# Creating a list of labels\n",
    "\n",
    "fashion_mnist_labels = [\"T-shirt/top\", \n",
    "                            \"Trouser\",\n",
    "                            \"Pullover\",\n",
    "                            \"Dress\",\n",
    "                            \"Coat\",\n",
    "                            \"Sandal\", \n",
    "                            \"Shirt\",\n",
    "                            \"Sneaker\",\n",
    "                            \"Bag\",\n",
    "                            \"Ankle boot\"]"
   ]
  },
  {
   "cell_type": "markdown",
   "metadata": {
    "id": "ooZWvwRXkLdK"
   },
   "source": [
    "# Plotting some of the images"
   ]
  },
  {
   "cell_type": "code",
   "execution_count": null,
   "metadata": {
    "colab": {
     "base_uri": "https://localhost:8080/",
     "height": 487
    },
    "id": "x6JjaY2CifH_",
    "outputId": "4874e2c3-ad70-436b-cddf-892bf9710c5b"
   },
   "outputs": [],
   "source": [
    "figure = plt.figure(figsize=(20,8))\n",
    "\n",
    "indices = np.random.choice(np.arange(x_train.shape[0]), 15, replace=False)\n",
    "subset = x_train[indices]\n",
    "\n",
    "for i, image_sample in enumerate(subset):\n",
    "  ax = figure.add_subplot(3, 5, i + 1, xticks=[], yticks=[])\n",
    "  j = fashion_mnist_labels[y_train[indices[i]]] #image label\n",
    "  ax.set_title(j, fontsize=20)\n",
    "  ax.imshow(image_sample.reshape(28,28))\n",
    "  i+=1"
   ]
  },
  {
   "cell_type": "code",
   "execution_count": null,
   "metadata": {
    "colab": {
     "base_uri": "https://localhost:8080/"
    },
    "id": "c-B6j1ZSIDue",
    "outputId": "2100e3b1-0c16-4d75-b8ea-43ab4a1c1178"
   },
   "outputs": [],
   "source": [
    "x_train = x_train/255\n",
    "x_test = x_test/255\n",
    "\n",
    "num_classes = 10\n",
    "\n",
    "train_one_hot = tf.keras.utils.to_categorical(y_train,num_classes)\n",
    "test_one_hot = tf.keras.utils.to_categorical(y_test,num_classes)\n",
    "\n",
    "print(y_train[0])\n",
    "print(train_one_hot[0])\n",
    "\n",
    "train_size = x_train.shape[0]\n",
    "test_size = x_test.shape[0]\n",
    "\n",
    "\n",
    "print(f'Max pixel value: {x_train.max()}')\n",
    "print(f'Min pixel value: {x_train.min()}')\n",
    "print(f'Train size: {train_size}, Test size: {test_size}')\n",
    "print(f'Train data shape: {x_train.shape}, Test data shape: {x_test.shape}')\n",
    "print(f'Train label shape: {train_one_hot.shape}, Test label shape: {test_one_hot.shape}')\n"
   ]
  },
  {
   "cell_type": "markdown",
   "metadata": {
    "id": "JlzNjl1dR8fR"
   },
   "source": [
    "# **Model training**"
   ]
  },
  {
   "cell_type": "code",
   "execution_count": null,
   "metadata": {
    "id": "JUA3hlQ-N-u-"
   },
   "outputs": [],
   "source": [
    "batch_size = 100\n",
    "epoch = 2000\n",
    "\n",
    "\n",
    "es = EarlyStopping(\n",
    "    monitor='val_accuracy',\n",
    "    min_delta=0,\n",
    "    patience=40,\n",
    "    verbose=1,\n",
    "    mode='auto',\n",
    "    restore_best_weights=True\n",
    ")\n",
    "\n",
    "optimizer = tf.keras.optimizers.Adam(\n",
    "    learning_rate=1e-3, beta_1=0.9, beta_2=0.999, epsilon=1e-07, amsgrad=False,\n",
    "    name='Adam'\n",
    ")\n"
   ]
  },
  {
   "cell_type": "markdown",
   "metadata": {
    "id": "PTrgO5rqXRI6"
   },
   "source": [
    "## **Baseline model**"
   ]
  },
  {
   "cell_type": "code",
   "execution_count": null,
   "metadata": {
    "colab": {
     "base_uri": "https://localhost:8080/"
    },
    "id": "vcGLQWfXN-vB",
    "outputId": "fb071b8c-20e6-4349-806b-fd83d6c141ce"
   },
   "outputs": [],
   "source": [
    "BASELINE_INPUT_SHAPE = [28,28,1]\n",
    "\n",
    "x_train = x_train.reshape([-1]+BASELINE_INPUT_SHAPE)\n",
    "x_test = x_test.reshape([-1]+BASELINE_INPUT_SHAPE)\n",
    "\n",
    "print(f'Train data shape: {x_train.shape}, Test data shape: {x_test.shape}')"
   ]
  },
  {
   "cell_type": "code",
   "execution_count": null,
   "metadata": {
    "colab": {
     "base_uri": "https://localhost:8080/"
    },
    "id": "V4hyYM-MzlM-",
    "outputId": "7692215d-14ec-46aa-9a11-7027ec25ddc8"
   },
   "outputs": [],
   "source": [
    "tf.keras.backend.clear_session()\n",
    "\n",
    "inputs = Input(shape=BASELINE_INPUT_SHAPE)\n",
    "\n",
    "x = Conv2D(filters=10, kernel_size=(4,4), strides=(1,1),\n",
    "           activation='relu', padding='same')(inputs)\n",
    "\n",
    "x = MaxPool2D(pool_size=(2, 2), strides=(2,2))(x)\n",
    "\n",
    "x = Flatten()(x)\n",
    "\n",
    "x = Dense(50, activation='relu')(x)\n",
    "\n",
    "outputs = Dense(num_classes, activation='softmax')(x)\n",
    "\n",
    "baseline_model = tf.keras.Model(inputs=inputs,outputs=outputs, name=\"baseline_model\")\n",
    "\n",
    "baseline_model.summary()"
   ]
  },
  {
   "cell_type": "code",
   "execution_count": null,
   "metadata": {
    "colab": {
     "base_uri": "https://localhost:8080/"
    },
    "id": "XAejv__1pFmj",
    "outputId": "c8e3a68c-86f7-4d89-99d3-15bfcb501bc9"
   },
   "outputs": [],
   "source": [
    "baseline_model.compile(loss='categorical_crossentropy',\n",
    "              optimizer=optimizer,\n",
    "              metrics=['accuracy'])\n",
    "\n",
    "\n",
    "baseline_hist = baseline_model.fit(x_train, train_one_hot, epochs=epoch, batch_size = batch_size,\n",
    "          validation_split=0.3, callbacks=[es])"
   ]
  },
  {
   "cell_type": "markdown",
   "metadata": {
    "id": "T8XDUgAmN-vI"
   },
   "source": [
    "## **Underfitted model**"
   ]
  },
  {
   "cell_type": "code",
   "execution_count": null,
   "metadata": {
    "colab": {
     "base_uri": "https://localhost:8080/"
    },
    "id": "PdhADxNqxUk1",
    "outputId": "d8a8eb3f-1250-40d9-b5c4-a2f1daeeb6a3"
   },
   "outputs": [],
   "source": [
    "UNDERFIT_INPUT_SHAPE = [28,28,1]\n",
    "\n",
    "x_train = x_train.reshape([-1]+UNDERFIT_INPUT_SHAPE)\n",
    "x_test = x_test.reshape([-1]+UNDERFIT_INPUT_SHAPE)\n",
    "\n",
    "print(f'Train data shape: {x_train.shape}, Test data shape: {x_test.shape}')"
   ]
  },
  {
   "cell_type": "code",
   "execution_count": null,
   "metadata": {
    "colab": {
     "base_uri": "https://localhost:8080/"
    },
    "id": "n1plTV3HN-vI",
    "outputId": "e4914616-2164-4754-f803-2a67d9e6b947"
   },
   "outputs": [],
   "source": [
    "tf.keras.backend.clear_session()\n",
    "\n",
    "\n",
    "inputs = Input(shape=UNDERFIT_INPUT_SHAPE)\n",
    "\n",
    "x = Conv2D(filters=1, kernel_size=(4,4), strides=(1,1),\n",
    "           activation='relu', padding='same')(inputs)\n",
    "\n",
    "x = MaxPool2D(pool_size=(2, 2), strides=(2,2))(x)\n",
    "\n",
    "x = Flatten()(x)\n",
    "\n",
    "x = Dense(5, activation='relu')(x) \n",
    "\n",
    "outputs = Dense(num_classes, activation='softmax')(x)\n",
    "\n",
    "underfitted_model = tf.keras.Model(inputs=inputs,outputs=outputs, name=\"underfitted_model\")\n",
    "\n",
    "\n",
    "underfitted_model.summary()"
   ]
  },
  {
   "cell_type": "code",
   "execution_count": null,
   "metadata": {
    "colab": {
     "base_uri": "https://localhost:8080/"
    },
    "id": "BwPgYuYCN-vK",
    "outputId": "3bfe46bd-49ed-4526-e73f-e48cb42f1d86"
   },
   "outputs": [],
   "source": [
    "underfitted_model.compile(loss='categorical_crossentropy',\n",
    "              optimizer=optimizer,\n",
    "              metrics=['accuracy'])\n",
    "\n",
    "\n",
    "underfitted_hist = underfitted_model.fit(x_train, train_one_hot, epochs=epoch, batch_size = batch_size,\n",
    "          validation_split=0.3, callbacks=[es])"
   ]
  },
  {
   "cell_type": "markdown",
   "metadata": {
    "id": "V6bf9u_YN-vM"
   },
   "source": [
    "## **Overfitted model**"
   ]
  },
  {
   "cell_type": "code",
   "execution_count": null,
   "metadata": {
    "colab": {
     "base_uri": "https://localhost:8080/"
    },
    "id": "oum8e6rfxWVb",
    "outputId": "ccade2f1-ae2a-4ea5-f3a8-e4984328c778"
   },
   "outputs": [],
   "source": [
    "OVERFIT_INPUT_SHAPE = [28,28,1]\n",
    "\n",
    "x_train = x_train.reshape([-1]+OVERFIT_INPUT_SHAPE)\n",
    "x_test = x_test.reshape([-1]+OVERFIT_INPUT_SHAPE)\n",
    "\n",
    "print(f'Train data shape: {x_train.shape}, Test data shape: {x_test.shape}')"
   ]
  },
  {
   "cell_type": "code",
   "execution_count": null,
   "metadata": {
    "colab": {
     "base_uri": "https://localhost:8080/"
    },
    "id": "EBmly8qON-vN",
    "outputId": "35f98fed-c501-4d55-880c-0e7d4f8d316f"
   },
   "outputs": [],
   "source": [
    "tf.keras.backend.clear_session()\n",
    "\n",
    "\n",
    "\n",
    "inputs = Input(shape=OVERFIT_INPUT_SHAPE)\n",
    "\n",
    "x = Conv2D(filters=64, kernel_size=(4,4), strides=(1,1),\n",
    "           activation='relu', padding='same')(inputs)\n",
    "\n",
    "x = MaxPool2D(pool_size=(2, 2), strides=(2,2))(x)\n",
    "\n",
    "x = Conv2D(filters=64, kernel_size=(4,4), strides=(1,1) , activation='relu')(x)\n",
    "                    \n",
    "x = MaxPool2D(pool_size=(2, 2), strides=(2,2))(x)\n",
    "\n",
    "x = Conv2D(filters=64, kernel_size=(4,4), strides=(1,1) , activation='relu')(x)\n",
    "                    \n",
    "x = MaxPool2D(pool_size=(2, 2), strides=(2,2))(x)\n",
    "\n",
    "x = Flatten()(x)\n",
    "\n",
    "x = Dense(1000, activation='relu')(x)\n",
    "\n",
    "x = Dense(64, activation='relu')(x)\n",
    "\n",
    "outputs = Dense(num_classes, activation='softmax')(x)\n",
    "\n",
    "overfitted_model = tf.keras.Model(inputs=inputs,outputs=outputs, name=\"overfitted_model\")\n",
    "\n",
    "overfitted_model.summary()\n"
   ]
  },
  {
   "cell_type": "code",
   "execution_count": null,
   "metadata": {
    "colab": {
     "base_uri": "https://localhost:8080/"
    },
    "id": "jXq3dD2NN-vP",
    "outputId": "5c14eea1-9b4e-4069-f1bf-a539bf60537e",
    "scrolled": true
   },
   "outputs": [],
   "source": [
    "overfitted_model.compile(loss='categorical_crossentropy',\n",
    "              optimizer=optimizer,\n",
    "              metrics=['accuracy'])\n",
    "\n",
    "overfitted_hist = overfitted_model.fit(x_train, train_one_hot, epochs=epoch, batch_size = batch_size,\n",
    "          validation_split=0.3, callbacks=[es])"
   ]
  },
  {
   "cell_type": "markdown",
   "metadata": {
    "id": "lWU_QrgkN-vR"
   },
   "source": [
    "# Regularized model"
   ]
  },
  {
   "cell_type": "markdown",
   "metadata": {
    "id": "_mqK12_-QkdN"
   },
   "source": [
    "## Task:\n",
    "\n",
    "The regularized model has the same architecture as the overfitted model.\n",
    "Apply regularization techniques to the regularized model, see what is the best test set accuracy you can achieve, and compare it with the overfitted model.\n",
    "\n",
    "\n",
    "\n",
    "**Links to the documentation for your reference:**\n",
    "\n",
    "Dropout:\n",
    "https://www.tensorflow.org/api_docs/python/tf/keras/layers/Dropout\n",
    "\n",
    "L1/L2 regularization:\n",
    "https://www.tensorflow.org/api_docs/python/tf/keras/regularizers/Regularizer\n",
    "\n",
    "\n",
    "\n",
    "\n",
    "\n",
    "\n"
   ]
  },
  {
   "cell_type": "code",
   "execution_count": null,
   "metadata": {
    "colab": {
     "base_uri": "https://localhost:8080/"
    },
    "id": "KsimMClxxZwW",
    "outputId": "7f71eabf-1edf-4bc4-8f12-4d64da77639c"
   },
   "outputs": [],
   "source": [
    "REGULARIZED_INPUT_SHAPE = [28,28,1]\n",
    "\n",
    "x_train = x_train.reshape([-1]+REGULARIZED_INPUT_SHAPE)\n",
    "x_test = x_test.reshape([-1]+REGULARIZED_INPUT_SHAPE)\n",
    "\n",
    "print(f'Train data shape: {x_train.shape}, Test data shape: {x_test.shape}')"
   ]
  },
  {
   "cell_type": "code",
   "execution_count": null,
   "metadata": {
    "colab": {
     "base_uri": "https://localhost:8080/"
    },
    "id": "CFol8R390LL9",
    "outputId": "88391352-f079-43c7-fb09-1fffa9dffcf9"
   },
   "outputs": [],
   "source": [
    "from tensorflow.keras import regularizers\n",
    "\n",
    "tf.keras.backend.clear_session()\n",
    "\n",
    "\n",
    "#Type your code here\n",
    "\n",
    "inputs = Input(shape=REGULARIZED_INPUT_SHAPE)\n",
    "\n",
    "x = Conv2D(filters=64, kernel_size=(4,4), strides=(1,1), \n",
    "           activation='relu', padding='same')(inputs)\n",
    "\n",
    "x = MaxPool2D(pool_size=(2, 2), strides=(2,2))(x)\n",
    "\n",
    "\n",
    "x = Conv2D(filters=64, kernel_size=(4,4), strides=(1,1) , activation='relu')(x)\n",
    "                    \n",
    "x = MaxPool2D(pool_size=(2, 2), strides=(2,2))(x)\n",
    "\n",
    "\n",
    "x = Conv2D(filters=64, kernel_size=(4,4), strides=(1,1) , activation='relu')(x)\n",
    "                    \n",
    "x = MaxPool2D(pool_size=(2, 2), strides=(2,2))(x)\n",
    "\n",
    "x = Flatten()(x)\n",
    "\n",
    "x = Dense(1000, activation='relu')(x)\n",
    "\n",
    "x = Dense(64, activation='relu')(x)\n",
    "\n",
    "outputs = Dense(num_classes, activation='softmax')(x)\n",
    "\n",
    "regularized_model = tf.keras.Model(inputs=inputs,outputs=outputs, name=\"regularized_model\")\n",
    "\n",
    "\n",
    "regularized_model.summary()\n"
   ]
  },
  {
   "cell_type": "code",
   "execution_count": null,
   "metadata": {
    "colab": {
     "base_uri": "https://localhost:8080/"
    },
    "id": "Ie2q29fTN-vT",
    "outputId": "cfaf62f2-824a-4ac0-bd47-1daec436529f",
    "scrolled": true
   },
   "outputs": [],
   "source": [
    "regularized_model.compile(loss='categorical_crossentropy',\n",
    "              optimizer=optimizer,\n",
    "              metrics=['accuracy'])\n",
    "\n",
    "regularized_hist = regularized_model.fit(x_train, train_one_hot, epochs=epoch, batch_size = batch_size,\n",
    "          validation_split=0.3, callbacks=[es])"
   ]
  },
  {
   "cell_type": "markdown",
   "metadata": {
    "id": "t_S7_G5zEnGb"
   },
   "source": [
    "# **Plotting the learning curves**"
   ]
  },
  {
   "cell_type": "code",
   "execution_count": null,
   "metadata": {
    "id": "bndoshjFN-vV",
    "scrolled": true
   },
   "outputs": [],
   "source": [
    "baseline_hist_df = pd.DataFrame(baseline_hist.history)\n",
    "columns = {'loss':'Baseline train loss','accuracy':'Baseline train acc','val_loss':'Baseline val loss','val_accuracy':'Baseline val acc'}\n",
    "baseline_hist_df.rename(columns=columns, inplace=True)\n"
   ]
  },
  {
   "cell_type": "code",
   "execution_count": null,
   "metadata": {
    "id": "eZe568inN-vX",
    "scrolled": true
   },
   "outputs": [],
   "source": [
    "underfitted_hist_df = pd.DataFrame(underfitted_hist.history)\n",
    "columns = {'loss':'Underfit train loss','accuracy':'Underfit train acc','val_loss':'Underfit val loss','val_accuracy':'Underfit val acc'}\n",
    "underfitted_hist_df.rename(columns=columns, inplace=True)\n"
   ]
  },
  {
   "cell_type": "code",
   "execution_count": null,
   "metadata": {
    "id": "Dmik6T4iN-vZ",
    "scrolled": true
   },
   "outputs": [],
   "source": [
    "overfitted_hist_df = pd.DataFrame(overfitted_hist.history)\n",
    "columns = {'loss':'Overfit train loss','accuracy':'Overfit train acc','val_loss':'Overfit val loss','val_accuracy':'Overfit val acc'}\n",
    "overfitted_hist_df.rename(columns=columns, inplace=True)\n"
   ]
  },
  {
   "cell_type": "code",
   "execution_count": null,
   "metadata": {
    "id": "24dS--FKN-vb"
   },
   "outputs": [],
   "source": [
    "regularized_hist_df = pd.DataFrame(regularized_hist.history)\n",
    "columns = {'loss':'Regularized train loss','accuracy':'Regularized train acc','val_loss':'Regularized val loss','val_accuracy':'Regularized val acc'}\n",
    "regularized_hist_df.rename(columns=columns, inplace=True)\n"
   ]
  },
  {
   "cell_type": "code",
   "execution_count": null,
   "metadata": {
    "colab": {
     "base_uri": "https://localhost:8080/",
     "height": 522
    },
    "id": "XwHBVqGVN-ve",
    "outputId": "69e77cd5-50fa-4bec-ac2c-ebd2a19b4747",
    "scrolled": false
   },
   "outputs": [],
   "source": [
    "plt.figure(figsize=(12,8))\n",
    "\n",
    "plt.plot(baseline_hist_df['Baseline train acc'], color='C0', linestyle='-',label='Baseline train acc')\n",
    "plt.plot(baseline_hist_df['Baseline val acc'], color='C0', linestyle='--',label='Baseline val acc')\n",
    "\n",
    "plt.plot(underfitted_hist_df['Underfit train acc'], color='C1', linestyle='-',label='Underfit train acc')\n",
    "plt.plot(underfitted_hist_df['Underfit val acc'], color='C1', linestyle='--',label='Underfit val acc')\n",
    "\n",
    "plt.ylim([0.7,1])\n",
    "\n",
    "plt.ylabel('Accuracy', fontsize=14)\n",
    "plt.xlabel('Epoch', fontsize=14)\n",
    "plt.xticks(fontsize=12)\n",
    "plt.yticks(fontsize=12)\n",
    "plt.legend(loc='lower right', fontsize=14)"
   ]
  },
  {
   "cell_type": "code",
   "execution_count": null,
   "metadata": {
    "colab": {
     "base_uri": "https://localhost:8080/",
     "height": 522
    },
    "id": "wjEWwOwDN-vf",
    "outputId": "430152e6-bc20-4c01-ce31-7132d91b9e20"
   },
   "outputs": [],
   "source": [
    "plt.figure(figsize=(12,8))\n",
    "\n",
    "plt.plot(baseline_hist_df['Baseline train acc'], color='C0', linestyle='-',label='Baseline train acc')\n",
    "plt.plot(baseline_hist_df['Baseline val acc'], color='C0', linestyle='--',label='Baseline val acc')\n",
    "\n",
    "plt.plot(overfitted_hist_df['Overfit train acc'], color='C2', linestyle='-',label='Overfit train acc')\n",
    "plt.plot(overfitted_hist_df['Overfit val acc'], color='C2', linestyle='--',label='Overfit val acc')\n",
    "\n",
    "plt.ylim([0.7,1.05])\n",
    "\n",
    "plt.ylabel('Accuracy', fontsize=14)\n",
    "plt.xlabel('Epoch', fontsize=14)\n",
    "plt.xticks(fontsize=12)\n",
    "plt.yticks(fontsize=12)\n",
    "plt.legend(loc='lower right', fontsize=14)\n"
   ]
  },
  {
   "cell_type": "code",
   "execution_count": null,
   "metadata": {
    "colab": {
     "base_uri": "https://localhost:8080/",
     "height": 522
    },
    "id": "h_0vhNSxN-vh",
    "outputId": "57c1432e-e854-4df4-f7cc-2a3b0648fe14"
   },
   "outputs": [],
   "source": [
    "plt.figure(figsize=(12,8))\n",
    "\n",
    "plt.plot(baseline_hist_df['Baseline train acc'], color='C0', linestyle='-',label='Baseline train acc')\n",
    "plt.plot(baseline_hist_df['Baseline val acc'], color='C0', linestyle='--',label='Baseline val acc')\n",
    "\n",
    "\n",
    "plt.plot(regularized_hist_df['Regularized train acc'], color='C3', linestyle='-',label='Regularized train acc')\n",
    "plt.plot(regularized_hist_df['Regularized val acc'], color='C3', linestyle='--',label='Regularized val acc')\n",
    "\n",
    "plt.ylim([0.7,1.])\n",
    "\n",
    "plt.ylabel('Accuracy', fontsize=14)\n",
    "plt.xlabel('Epoch', fontsize=14)\n",
    "plt.xticks(fontsize=12)\n",
    "plt.yticks(fontsize=12)\n",
    "plt.legend(loc='lower right', fontsize=14)\n"
   ]
  },
  {
   "cell_type": "code",
   "execution_count": null,
   "metadata": {
    "colab": {
     "base_uri": "https://localhost:8080/",
     "height": 522
    },
    "id": "uMpyzUuXN-vj",
    "outputId": "2b565306-d574-41a6-a559-57fcd8547a52"
   },
   "outputs": [],
   "source": [
    "plt.figure(figsize=(12,8))\n",
    "\n",
    "plt.plot(baseline_hist_df['Baseline train acc'], color='C0', linestyle='-',label='Baseline train acc')\n",
    "plt.plot(baseline_hist_df['Baseline val acc'], color='C0', linestyle='--',label='Baseline val acc')\n",
    "\n",
    "plt.plot(overfitted_hist_df['Overfit train acc'], color='C2', linestyle='-',label='Overfit train acc')\n",
    "plt.plot(overfitted_hist_df['Overfit val acc'], color='C2', linestyle='--',label='Overfit val acc')\n",
    "\n",
    "plt.plot(regularized_hist_df['Regularized train acc'], color='C3', linestyle='-',label='Regularized train acc')\n",
    "plt.plot(regularized_hist_df['Regularized val acc'], color='C3', linestyle='--',label='Regularized val acc')\n",
    "\n",
    "plt.ylim([0.7,1.05])\n",
    "\n",
    "plt.ylabel('Accuracy', fontsize=14)\n",
    "plt.xlabel('Epoch', fontsize=14)\n",
    "plt.xticks(fontsize=12)\n",
    "plt.yticks(fontsize=12)\n",
    "plt.legend(loc='lower right', fontsize=14)\n"
   ]
  },
  {
   "cell_type": "markdown",
   "metadata": {
    "id": "88aIDx-NmnK_"
   },
   "source": [
    "# **Model evaluation on test set**"
   ]
  },
  {
   "cell_type": "code",
   "execution_count": null,
   "metadata": {
    "colab": {
     "base_uri": "https://localhost:8080/"
    },
    "id": "TNgaVTEUN-vl",
    "outputId": "dd1f038f-0efd-4399-a253-65bf877e6076"
   },
   "outputs": [],
   "source": [
    "scores = baseline_model.evaluate(x_test.reshape([-1]+BASELINE_INPUT_SHAPE), test_one_hot, verbose=1)\n",
    "names = baseline_model.metrics_names\n",
    "\n",
    "for i in range(len(scores)):\n",
    "  print(f'Baseline model test {names[i]}: {scores[i]:.4f}')"
   ]
  },
  {
   "cell_type": "code",
   "execution_count": null,
   "metadata": {
    "colab": {
     "base_uri": "https://localhost:8080/"
    },
    "id": "Q8plHv7LN-vn",
    "outputId": "d02d7eab-33a8-4485-b4e3-59247f715b01"
   },
   "outputs": [],
   "source": [
    "scores = underfitted_model.evaluate(x_test.reshape([-1]+UNDERFIT_INPUT_SHAPE), test_one_hot, verbose=1)\n",
    "names = underfitted_model.metrics_names\n",
    "\n",
    "for i in range(len(scores)):\n",
    "  print(f'Underfitted model test {names[i]}: {scores[i]:.4f}')"
   ]
  },
  {
   "cell_type": "code",
   "execution_count": null,
   "metadata": {
    "colab": {
     "base_uri": "https://localhost:8080/"
    },
    "id": "Roh6t94BlV_P",
    "outputId": "6a909131-fc94-41a0-bf37-4c17da75722e"
   },
   "outputs": [],
   "source": [
    "scores = overfitted_model.evaluate(x_test.reshape([-1]+OVERFIT_INPUT_SHAPE), test_one_hot, verbose=1)\n",
    "names = overfitted_model.metrics_names\n",
    "\n",
    "for i in range(len(scores)):\n",
    "  print(f'Overfitted model test {names[i]}: {scores[i]:.4f}')"
   ]
  },
  {
   "cell_type": "code",
   "execution_count": null,
   "metadata": {
    "colab": {
     "base_uri": "https://localhost:8080/"
    },
    "id": "Y_kn3yA8N-vq",
    "outputId": "cbfa156a-30dc-41f8-ac73-0f57deeb449f"
   },
   "outputs": [],
   "source": [
    "scores = regularized_model.evaluate(x_test.reshape([-1]+REGULARIZED_INPUT_SHAPE), test_one_hot, verbose=1)\n",
    "names = regularized_model.metrics_names\n",
    "\n",
    "for i in range(len(scores)):\n",
    "  print(f'Regularized model test {names[i]}: {scores[i]:.4f}')"
   ]
  },
  {
   "cell_type": "markdown",
   "metadata": {
    "id": "B9ljYYViFB8_"
   },
   "source": [
    "# Making predictions and plotting the result"
   ]
  },
  {
   "cell_type": "code",
   "execution_count": null,
   "metadata": {
    "colab": {
     "base_uri": "https://localhost:8080/",
     "height": 480
    },
    "id": "w2qA6thO8B3s",
    "outputId": "ad5db9d8-be39-4752-a635-da07a35631c0"
   },
   "outputs": [],
   "source": [
    "prediction = regularized_model.predict(x_test)\n",
    "\n",
    "\n",
    "figure = plt.figure(figsize=(20,8))\n",
    "\n",
    "for i, index in enumerate(np.random.choice(x_test.shape[0], size=15, replace=False)):\n",
    "    ax = figure.add_subplot(3, 5, i + 1, xticks=[], yticks=[])\n",
    "   \n",
    "    ax.imshow(x_test[index].reshape(28,28), cmap='gray')\n",
    "    predict_index = np.argmax(prediction[index])\n",
    "    true_index = np.argmax(test_one_hot[index])\n",
    "   \n",
    "    ax.set_title(\"{} ({})\".format(fashion_mnist_labels[predict_index], \n",
    "                                  fashion_mnist_labels[true_index]),\n",
    "                                  color=(\"green\" if predict_index == true_index else \"red\"))"
   ]
  },
  {
   "cell_type": "code",
   "execution_count": null,
   "metadata": {
    "id": "6B_JPoqj1ThG"
   },
   "outputs": [],
   "source": []
  },
  {
   "cell_type": "code",
   "execution_count": null,
   "metadata": {
    "id": "MeUbejleIAZN"
   },
   "outputs": [],
   "source": []
  }
 ],
 "metadata": {
  "accelerator": "GPU",
  "colab": {
   "collapsed_sections": [],
   "name": "Overfitting_Fashsion_MNIST.ipynb",
   "provenance": []
  },
  "kernelspec": {
   "display_name": "Python 3",
   "language": "python",
   "name": "python3"
  },
  "language_info": {
   "codemirror_mode": {
    "name": "ipython",
    "version": 3
   },
   "file_extension": ".py",
   "mimetype": "text/x-python",
   "name": "python",
   "nbconvert_exporter": "python",
   "pygments_lexer": "ipython3",
   "version": "3.8.8"
  }
 },
 "nbformat": 4,
 "nbformat_minor": 1
}
