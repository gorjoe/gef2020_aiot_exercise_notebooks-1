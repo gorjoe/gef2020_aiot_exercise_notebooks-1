{
 "cells": [
  {
   "cell_type": "markdown",
   "metadata": {
    "id": "3-0ZDInq9ARa"
   },
   "source": [
    "# **CNN model for the Fashion MNIST dataset**\n",
    "\n",
    "In the last notebook, you have implemented a neural network model for the Fashion MNIST dataset, what was your model's accuracy on the testing set? Do you think we can further improve it?\n",
    "\n",
    "\\\n",
    "In this notebook you will implement a Convolutional Neural Network (CNN) model to improve the prediction accuracy\n",
    "\n",
    "\\\n",
    "**Instruction: type your code when you see 'Type your code here' in comments**"
   ]
  },
  {
   "cell_type": "code",
   "execution_count": null,
   "metadata": {
    "colab": {
     "base_uri": "https://localhost:8080/"
    },
    "id": "9DiswJ1NHBbo",
    "outputId": "1dda34f5-cd8f-41bc-8b37-f160e2f96f83"
   },
   "outputs": [],
   "source": [
    "import tensorflow as tf\n",
    "print(\"Num GPUs Available: \", len(tf.config.list_physical_devices('GPU')))\n",
    "print('Tensorflow version:',tf.__version__)\n",
    "import numpy as np\n",
    "import pandas as pd\n",
    "\n",
    "from matplotlib import pyplot as plt\n",
    "plt.style.use('seaborn')\n",
    "\n",
    "import seaborn as sns\n",
    "from sklearn.model_selection import train_test_split\n",
    "\n",
    "import os\n",
    "print('Keras version:', tf.keras.__version__)"
   ]
  },
  {
   "cell_type": "markdown",
   "metadata": {
    "id": "Xnd6Fxh9gs1D"
   },
   "source": [
    "# Loading the fashion_mnist data set training set"
   ]
  },
  {
   "cell_type": "code",
   "execution_count": null,
   "metadata": {
    "id": "g5gUoWwWHWBU"
   },
   "outputs": [],
   "source": [
    "(x_train, y_train), (x_test, y_test) = tf.keras.datasets.fashion_mnist.load_data()"
   ]
  },
  {
   "cell_type": "code",
   "execution_count": null,
   "metadata": {
    "colab": {
     "base_uri": "https://localhost:8080/"
    },
    "id": "iFgSMzXpkwhN",
    "outputId": "df0a41c8-def9-4868-a10f-ec61abf6a1d9"
   },
   "outputs": [],
   "source": [
    "print(f'Shape of an image: {x_train[0].shape}')\n",
    "print(f'Max pixel value: {x_train.max()}')\n",
    "print(f'Min pixel value: {x_train.min()}')\n",
    "print(f'Classes: {np.unique(y_train)}')"
   ]
  },
  {
   "cell_type": "code",
   "execution_count": null,
   "metadata": {
    "id": "crQSkyUtiawn"
   },
   "outputs": [],
   "source": [
    "# Creating a list of labels\n",
    "\n",
    "fashion_mnist_labels = [\"T-shirt/top\", \n",
    "                            \"Trouser\",\n",
    "                            \"Pullover\",\n",
    "                            \"Dress\",\n",
    "                            \"Coat\",\n",
    "                            \"Sandal\", \n",
    "                            \"Shirt\",\n",
    "                            \"Sneaker\",\n",
    "                            \"Bag\",\n",
    "                            \"Ankle boot\"]"
   ]
  },
  {
   "cell_type": "markdown",
   "metadata": {
    "id": "ooZWvwRXkLdK"
   },
   "source": [
    "# Plotting some of the images\n",
    "\n"
   ]
  },
  {
   "cell_type": "code",
   "execution_count": null,
   "metadata": {
    "colab": {
     "base_uri": "https://localhost:8080/",
     "height": 487
    },
    "id": "x6JjaY2CifH_",
    "outputId": "66287992-fba0-4516-9151-188e7ba93945"
   },
   "outputs": [],
   "source": [
    "figure = plt.figure(figsize=(20,8))\n",
    "\n",
    "indices = np.random.choice(np.arange(x_train.shape[0]), 15, replace=False)\n",
    "subset = x_train[indices]\n",
    "\n",
    "for i, image_sample in enumerate(subset):\n",
    "  ax = figure.add_subplot(3, 5, i + 1, xticks=[], yticks=[])\n",
    "  j = fashion_mnist_labels[y_train[indices[i]]] #image label\n",
    "  ax.set_title(j, fontsize=20)\n",
    "  ax.imshow(image_sample.reshape(28,28))\n",
    "  i+=1"
   ]
  },
  {
   "cell_type": "code",
   "execution_count": null,
   "metadata": {
    "colab": {
     "base_uri": "https://localhost:8080/"
    },
    "id": "c-B6j1ZSIDue",
    "outputId": "032020a1-495d-4124-8e8a-86a39ad085c4"
   },
   "outputs": [],
   "source": [
    "#Type your code here\n",
    "\n",
    "x_train =    #feature scaling (Hint:255 is the maximum pixel value)\n",
    "x_test =  \n",
    "\n",
    "num_classes =  #no. of classes\n",
    "\n",
    "train_one_hot =  #one hot encoding for the training set\n",
    "test_one_hot =   #one hot encdoing for the testing set\n",
    "\n",
    "print(y_train[0])\n",
    "print(train_one_hot[0])\n",
    "\n",
    "\n",
    "train_size = x_train.shape[0]\n",
    "test_size = x_test.shape[0]\n",
    "\n",
    "\n",
    "print(f'Max pixel value: {x_train.max()}')\n",
    "print(f'Min pixel value: {x_train.min()}')\n",
    "print(f'Train size: {train_size}, Test size: {test_size}')\n",
    "print(f'Train data shape: {x_train.shape}, Test data shape: {x_test.shape}')\n",
    "print(f'Train label shape: {train_one_hot.shape}, Test label shape: {test_one_hot.shape}')\n"
   ]
  },
  {
   "cell_type": "markdown",
   "metadata": {
    "id": "JlzNjl1dR8fR"
   },
   "source": [
    "# **Model training**"
   ]
  },
  {
   "cell_type": "markdown",
   "metadata": {
    "id": "7XNh7SZPHMku"
   },
   "source": [
    "## Task: In this section, we are going to define our CNN model\n",
    "\n",
    "***Implement a CNN according to the below figure, it consists of:***\n",
    "\n",
    "1.   **an input layer**\n",
    "> Shape = INPUT_SHAPE\n",
    "2.   **a CNN layer**\n",
    "> No. of filter = 2,\n",
    "> Kernel size = (3,3),\n",
    "> Strides = (1,1),\n",
    "> Padding = 'same',\n",
    "> Activation='relu'\n",
    "3.   **a pooling layer (try MaxPooling2D first, then AveragePooling2D to compare accuracy)**\n",
    "> Pool size = (2,2), Strides = (1,1)\n",
    "4.   **a flatten layer**\n",
    "5.   **a dense layer**\n",
    "> No. of hidden units = 100, Activation = 'relu'\n",
    "6.   **an output (dense) layer**\n",
    "> Activation = 'softmax'\n",
    "**Hint: Remember to specify the input shape in the first layer**\n",
    "\n"
   ]
  },
  {
   "cell_type": "markdown",
   "metadata": {
    "id": "aZTFSNPXp7Hi"
   },
   "source": [
    "![](https://drive.google.com/uc?export=view&id=1mZ33zg7PwfVNXF9ea-39fu_biV43FFYO)"
   ]
  },
  {
   "cell_type": "markdown",
   "metadata": {
    "id": "7W4NEByRD9O6"
   },
   "source": [
    "**Links to the documentation for your reference:**\n",
    "\n",
    "Input layer:\n",
    "https://www.tensorflow.org/api_docs/python/tf/keras/Input\n",
    "\n",
    "Convolutional layer:\n",
    "https://www.tensorflow.org/api_docs/python/tf/keras/layers/Conv2D\n",
    "\n",
    "Pooling layer:\n",
    "https://www.tensorflow.org/api_docs/python/tf/keras/layers/MaxPool2D\n",
    "\n",
    "\n",
    "Flatten layer:\n",
    "https://www.tensorflow.org/api_docs/python/tf/keras/layers/Flatten\n",
    "\n",
    "\n",
    "Dense layer:\n",
    "https://www.tensorflow.org/api_docs/python/tf/keras/layers/Dense\n",
    "\n",
    "\n",
    "\n",
    "\n",
    "\n"
   ]
  },
  {
   "cell_type": "code",
   "execution_count": null,
   "metadata": {
    "colab": {
     "base_uri": "https://localhost:8080/"
    },
    "id": "1tEHDVcXu2Jy",
    "outputId": "e57960ad-1068-40bc-e830-4ee8dc7a6a8d"
   },
   "outputs": [],
   "source": [
    "#Type your code here\n",
    "\n",
    "# Reshaping the data\n",
    "INPUT_SHAPE =   #input shape for one image\n",
    "\n",
    "x_train = x_train.reshape([-1]+INPUT_SHAPE)\n",
    "x_test = x_test.reshape([-1]+INPUT_SHAPE)\n",
    "\n",
    "print(f'Train data shape: {x_train.shape}, Test data shape: {x_test.shape}')"
   ]
  },
  {
   "cell_type": "code",
   "execution_count": null,
   "metadata": {
    "colab": {
     "base_uri": "https://localhost:8080/"
    },
    "id": "V4hyYM-MzlM-",
    "outputId": "231c4320-2899-4f21-c908-bc66fb9f78e1"
   },
   "outputs": [],
   "source": [
    "from tensorflow.keras.layers import *\n",
    "\n",
    "\n",
    "tf.keras.backend.clear_session()\n",
    "\n",
    "#Type your code here\n",
    "\n",
    "#Define and compile your model\n",
    "#=============================================\n",
    "\n",
    "\n",
    "\n",
    "\n",
    "\n",
    "model = \n",
    "\n",
    "optimizer = \n",
    "\n",
    "model.compile()\n",
    "\n",
    "\n",
    "#=============================================\n",
    "model.summary()"
   ]
  },
  {
   "cell_type": "code",
   "execution_count": null,
   "metadata": {
    "colab": {
     "base_uri": "https://localhost:8080/",
     "height": 644
    },
    "id": "rzQTEtgptGBO",
    "outputId": "9c201151-39de-484e-f3c7-907ce7ad513c"
   },
   "outputs": [],
   "source": [
    "tf.keras.utils.plot_model(model, \"cnn_model.png\", show_shapes=True)"
   ]
  },
  {
   "cell_type": "markdown",
   "metadata": {
    "id": "5Op23J1EXXVC"
   },
   "source": [
    "## **Defining callback functions and training the model**"
   ]
  },
  {
   "cell_type": "code",
   "execution_count": null,
   "metadata": {
    "colab": {
     "base_uri": "https://localhost:8080/"
    },
    "id": "XAejv__1pFmj",
    "outputId": "4a995c2d-3a85-4b06-cfcc-21760a0ebc7c",
    "scrolled": true
   },
   "outputs": [],
   "source": [
    "\n",
    "from tensorflow.keras.callbacks import EarlyStopping\n",
    "\n",
    "#Type your code here\n",
    "batch_size = \n",
    "epochs = \n",
    "\n",
    "#Early Stopping callback function\n",
    "\n",
    "\n",
    "\n",
    "\n",
    "\n",
    "# Starting the training\n",
    "history =  #calling model.fit()\n",
    "\n",
    "\n"
   ]
  },
  {
   "cell_type": "markdown",
   "metadata": {
    "id": "t_S7_G5zEnGb"
   },
   "source": [
    "# **Plotting the learning curves**"
   ]
  },
  {
   "cell_type": "code",
   "execution_count": null,
   "metadata": {
    "colab": {
     "base_uri": "https://localhost:8080/",
     "height": 282
    },
    "id": "rBeVKlEmL0uo",
    "outputId": "5251e56d-1b1a-42e8-f244-8c5a9a5d2e5e"
   },
   "outputs": [],
   "source": [
    "res = pd.DataFrame(history.history)\n",
    "res[['loss','val_loss']].plot()"
   ]
  },
  {
   "cell_type": "code",
   "execution_count": null,
   "metadata": {
    "colab": {
     "base_uri": "https://localhost:8080/",
     "height": 282
    },
    "id": "EKDlmrFsm24T",
    "outputId": "10dbeeca-2a22-4ac8-e344-d76ad54b0f65"
   },
   "outputs": [],
   "source": [
    "res[['accuracy','val_accuracy']].plot()"
   ]
  },
  {
   "cell_type": "markdown",
   "metadata": {
    "id": "88aIDx-NmnK_"
   },
   "source": [
    "# **Model evaluation on test set**"
   ]
  },
  {
   "cell_type": "code",
   "execution_count": null,
   "metadata": {
    "colab": {
     "base_uri": "https://localhost:8080/"
    },
    "id": "Roh6t94BlV_P",
    "outputId": "3d18431e-0806-4f37-a3d8-b529f8420c3d"
   },
   "outputs": [],
   "source": [
    "#Type your code here\n",
    "\n",
    "scores =    #calling model.evaluate()\n",
    "names = model.metrics_names\n",
    "\n",
    "for i in range(len(scores)):\n",
    "  print(f'{names[i]}: {scores[i]:.4f}')"
   ]
  },
  {
   "cell_type": "markdown",
   "metadata": {
    "id": "B9ljYYViFB8_"
   },
   "source": [
    "# **Making predictions and plotting the result**"
   ]
  },
  {
   "cell_type": "code",
   "execution_count": null,
   "metadata": {},
   "outputs": [],
   "source": [
    "#Type your code here\n",
    "\n",
    "prediction =  #calling model.predict() here\n",
    "\n",
    "\n",
    "print(\n",
    "    f'sum: {np.sum(prediction, axis=1)}\\n'\n",
    "    f'predict index: {np.argmax(prediction, axis=1)}'\n",
    ")"
   ]
  },
  {
   "cell_type": "code",
   "execution_count": null,
   "metadata": {
    "colab": {
     "base_uri": "https://localhost:8080/",
     "height": 481
    },
    "id": "w2qA6thO8B3s",
    "outputId": "72db483a-6eb3-4916-b5d4-4066f9736576"
   },
   "outputs": [],
   "source": [
    "figure = plt.figure(figsize=(20,8))\n",
    "\n",
    "for i, index in enumerate(np.random.choice(x_test.shape[0], size=15, replace=False)):\n",
    "    ax = figure.add_subplot(3, 5, i + 1, xticks=[], yticks=[])\n",
    "   \n",
    "    ax.imshow(x_test[index].reshape(28,28), cmap='gray')\n",
    "    predict_index = np.argmax(prediction[index])\n",
    "    true_index = np.argmax(test_one_hot[index])\n",
    "   \n",
    "    ax.set_title(\"{} ({})\".format(fashion_mnist_labels[predict_index], \n",
    "                                  fashion_mnist_labels[true_index]),\n",
    "                                  color=(\"green\" if predict_index == true_index else \"red\"))"
   ]
  },
  {
   "cell_type": "code",
   "execution_count": null,
   "metadata": {
    "id": "6B_JPoqj1ThG"
   },
   "outputs": [],
   "source": []
  },
  {
   "cell_type": "markdown",
   "metadata": {
    "id": "qt6g9pTPM7LI"
   },
   "source": [
    "Are you satisfied with this model? Can the model be further improved?"
   ]
  },
  {
   "cell_type": "code",
   "execution_count": null,
   "metadata": {},
   "outputs": [],
   "source": []
  }
 ],
 "metadata": {
  "accelerator": "GPU",
  "colab": {
   "collapsed_sections": [],
   "name": "CNN_fashsion_MNIST(student_version).ipynb",
   "provenance": []
  },
  "kernelspec": {
   "display_name": "Python 3",
   "language": "python",
   "name": "python3"
  },
  "language_info": {
   "codemirror_mode": {
    "name": "ipython",
    "version": 3
   },
   "file_extension": ".py",
   "mimetype": "text/x-python",
   "name": "python",
   "nbconvert_exporter": "python",
   "pygments_lexer": "ipython3",
   "version": "3.8.8"
  }
 },
 "nbformat": 4,
 "nbformat_minor": 1
}
