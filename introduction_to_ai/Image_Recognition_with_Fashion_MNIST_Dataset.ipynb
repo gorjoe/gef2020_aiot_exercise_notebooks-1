{
 "cells": [
  {
   "cell_type": "markdown",
   "metadata": {
    "id": "v6nXJAWeRkac"
   },
   "source": [
    "# **Neural Network Model for the Fashion MNIST Dataset**"
   ]
  },
  {
   "cell_type": "markdown",
   "metadata": {
    "id": "AL2XktOgTb7q"
   },
   "source": [
    "In this notebook, we will implement a neural network model to recognize different fashion products in the Fashion MNIST dataset\n",
    "\n",
    "\\\n",
    "**Instruction: type your code when you see 'Type your code here' in comments**"
   ]
  },
  {
   "cell_type": "code",
   "execution_count": null,
   "metadata": {
    "colab": {
     "base_uri": "https://localhost:8080/"
    },
    "id": "9DiswJ1NHBbo",
    "outputId": "a716ae24-d459-44b9-939c-2a7875f671de"
   },
   "outputs": [],
   "source": [
    "import tensorflow as tf\n",
    "\n",
    "print(\"Num GPUs Available: \", len(tf.config.list_physical_devices('GPU')))\n",
    "print('Tensorflow version:',tf.__version__)\n",
    "import numpy as np\n",
    "import pandas as pd\n",
    "from matplotlib import pyplot as plt\n",
    "\n",
    "import seaborn as sns\n",
    "plt.style.use('seaborn')\n",
    "\n",
    "import os\n",
    "print('Keras version:', tf.keras.__version__)"
   ]
  },
  {
   "cell_type": "markdown",
   "metadata": {
    "id": "XrsfftiFnrGB"
   },
   "source": [
    "# Loading the Fashion MNIST Dataset"
   ]
  },
  {
   "cell_type": "code",
   "execution_count": null,
   "metadata": {
    "id": "g5gUoWwWHWBU"
   },
   "outputs": [],
   "source": [
    "(x_train, y_train), (x_test, y_test) = tf.keras.datasets.fashion_mnist.load_data()"
   ]
  },
  {
   "cell_type": "code",
   "execution_count": null,
   "metadata": {
    "colab": {
     "base_uri": "https://localhost:8080/"
    },
    "id": "iFgSMzXpkwhN",
    "outputId": "54a2b2bd-4f01-4539-b651-692ad084e27d"
   },
   "outputs": [],
   "source": [
    "print(f'Shape of an image: {x_train[0].shape}')\n",
    "print(f'Max pixel value: {x_train.max()}')\n",
    "print(f'Min pixel value: {x_train.min()}')\n",
    "print(f'Classes: {np.unique(y_train)}')"
   ]
  },
  {
   "cell_type": "code",
   "execution_count": null,
   "metadata": {
    "id": "crQSkyUtiawn"
   },
   "outputs": [],
   "source": [
    "# Creating a list of labels\n",
    "\n",
    "fashion_mnist_labels = [\"T-shirt/top\", \n",
    "             \"Trouser\",\n",
    "             \"Pullover\",\n",
    "             \"Dress\",\n",
    "             \"Coat\",\n",
    "             \"Sandal\", \n",
    "             \"Shirt\",\n",
    "             \"Sneaker\",\n",
    "             \"Bag\",\n",
    "             \"Ankle boot\"]"
   ]
  },
  {
   "cell_type": "markdown",
   "metadata": {
    "id": "ooZWvwRXkLdK"
   },
   "source": [
    "# Plotting some of the images"
   ]
  },
  {
   "cell_type": "code",
   "execution_count": null,
   "metadata": {
    "colab": {
     "base_uri": "https://localhost:8080/",
     "height": 487
    },
    "id": "x6JjaY2CifH_",
    "outputId": "9afedc2f-66f8-41b6-833f-82c184c1dfdd"
   },
   "outputs": [],
   "source": [
    "figure = plt.figure(figsize=(20,8))\n",
    "\n",
    "indices = np.random.choice(np.arange(x_train.shape[0]), 15, replace=False)\n",
    "subset = x_train[indices]\n",
    "\n",
    "for i, image_sample in enumerate(subset):\n",
    "  ax = figure.add_subplot(3, 5, i + 1, xticks=[], yticks=[])\n",
    "  j = fashion_mnist_labels[y_train[indices[i]]] #image label\n",
    "  ax.set_title(j, fontsize=20)\n",
    "  ax.imshow(image_sample.reshape(28,28))\n",
    "  i+=1"
   ]
  },
  {
   "cell_type": "markdown",
   "metadata": {
    "id": "zgbPf6PLsOCy"
   },
   "source": [
    "# Count plot of the training set\n"
   ]
  },
  {
   "cell_type": "code",
   "execution_count": null,
   "metadata": {
    "colab": {
     "base_uri": "https://localhost:8080/",
     "height": 378
    },
    "id": "7odJ53x4pRlf",
    "outputId": "b8256413-f642-4fc4-e222-8e215059dc97"
   },
   "outputs": [],
   "source": [
    "y_train_pd = pd.DataFrame(y_train, columns=['label'])\n",
    "sns.countplot(x='label', data=y_train_pd)"
   ]
  },
  {
   "cell_type": "markdown",
   "metadata": {
    "id": "Y7dHIp2nsT8w"
   },
   "source": [
    "# Count plot of the testing set\n"
   ]
  },
  {
   "cell_type": "code",
   "execution_count": null,
   "metadata": {
    "colab": {
     "base_uri": "https://localhost:8080/",
     "height": 378
    },
    "id": "eCGJoMnrsIzr",
    "outputId": "58d9e583-d47d-4901-ab01-c40dca1a39a2"
   },
   "outputs": [],
   "source": [
    "y_test_pd = pd.DataFrame(y_test, columns=['label'])\n",
    "sns.countplot(x='label', data=y_test_pd)"
   ]
  },
  {
   "cell_type": "code",
   "execution_count": null,
   "metadata": {
    "colab": {
     "base_uri": "https://localhost:8080/"
    },
    "id": "c-B6j1ZSIDue",
    "outputId": "feec98cd-b52d-4d55-f2b2-3d78482fdd53"
   },
   "outputs": [],
   "source": [
    "#Type your code here\n",
    "\n",
    "x_train =    #feature scaling (Hint:255 is the maximum pixel value)\n",
    "x_test =  \n",
    "\n",
    "num_classes =  #no. of classes\n",
    "\n",
    "train_one_hot =  #one hot encoding for the training set\n",
    "test_one_hot =   #one hot encdoing for the testing set\n",
    "\n",
    "print(y_train[0])\n",
    "print(train_one_hot[0])\n",
    "\n",
    "\n",
    "train_size = x_train.shape[0]\n",
    "test_size = x_test.shape[0]\n",
    "\n",
    "\n",
    "print(f'Max pixel value: {x_train.max()}')\n",
    "print(f'Min pixel value: {x_train.min()}')\n",
    "print(f'Train size: {train_size}, Test size: {test_size}')\n",
    "print(f'Train data shape: {x_train.shape}, Test data shape: {x_test.shape}')\n",
    "print(f'Train label shape: {train_one_hot.shape}, Test label shape: {test_one_hot.shape}')\n"
   ]
  },
  {
   "cell_type": "markdown",
   "metadata": {
    "id": "bJc8aaaUGwWy"
   },
   "source": [
    "## Task: In this section, we are going to define our neural network model\n",
    "\n",
    "Implement a neural network according to the below figure, it consists of:\n",
    "\n",
    "1.   **an input layer**\n",
    "> Shape = INPUT_SHAPE\n",
    "2.   **a dense layer**\n",
    "> No. of hidden units = 100, Activation = 'relu'\n",
    "3.   **an output (dense) layer**\n",
    "> Activation = 'softmax'\n",
    "\n",
    "\n",
    "![](https://drive.google.com/uc?export=view&id=1k41hOCQY7QWB270IJ0VXo1cdMpZb6hmy)\n",
    "\n",
    "\n",
    "**Links to the documentation for your reference:**\n",
    "\n",
    "Input layer:\n",
    "https://www.tensorflow.org/api_docs/python/tf/keras/Input\n",
    "\n",
    "Dense layer:\n",
    "https://www.tensorflow.org/api_docs/python/tf/keras/layers/Dense\n",
    "\n",
    "\n",
    "\n",
    "\n",
    "\n",
    "\n",
    "\n"
   ]
  },
  {
   "cell_type": "markdown",
   "metadata": {
    "id": "JlzNjl1dR8fR"
   },
   "source": [
    "# **Model training**"
   ]
  },
  {
   "cell_type": "markdown",
   "metadata": {
    "id": "viLCm5A6ZKCi"
   },
   "source": [
    "### Softmax function\n",
    "\n"
   ]
  },
  {
   "cell_type": "markdown",
   "metadata": {
    "id": "-VEFqjYaS-Jw"
   },
   "source": [
    "At the output layer, the softmax function is used to normalize the output scores into probabilities:\n",
    "\n",
    "\n",
    "$$p_i = softmax(x_i) = \\frac{\\exp({y_i})}{ \\sum_{j=1}^n \\exp({y_j})}$$\n",
    "\n",
    "After applying the softmax function, the sum of the output probabilities will be 1:\n",
    " $$\\sum_{i=1}^n p_i = 1$$\n",
    "\n",
    "\n"
   ]
  },
  {
   "cell_type": "code",
   "execution_count": null,
   "metadata": {
    "colab": {
     "base_uri": "https://localhost:8080/"
    },
    "id": "tTaONtvVwOV-",
    "outputId": "c1d05ecd-89ec-45dd-de00-550818abe405"
   },
   "outputs": [],
   "source": [
    "#Type your code here\n",
    "\n",
    "# Reshaping the data\n",
    "INPUT_SHAPE =   #input shape for one image\n",
    "\n",
    "x_train = x_train.reshape([-1]+INPUT_SHAPE)\n",
    "x_test = x_test.reshape([-1]+INPUT_SHAPE)\n",
    "\n",
    "print(f'Train data shape: {x_train.shape}, Test data shape: {x_test.shape}')"
   ]
  },
  {
   "cell_type": "code",
   "execution_count": null,
   "metadata": {
    "colab": {
     "base_uri": "https://localhost:8080/"
    },
    "id": "V5LvQVyEx5OW",
    "outputId": "7d143f3a-dd4b-4ad7-f680-6f0eebe40e73"
   },
   "outputs": [],
   "source": [
    "from tensorflow.keras.layers import *\n",
    "\n",
    "\n",
    "tf.keras.backend.clear_session()\n",
    "\n",
    "#Type your code here\n",
    "\n",
    "#Define and compile your model\n",
    "#=============================================\n",
    "\n",
    "\n",
    "\n",
    "\n",
    "\n",
    "model = \n",
    "\n",
    "optimizer = \n",
    "\n",
    "model.compile()\n",
    "\n",
    "\n",
    "#=============================================\n",
    "model.summary()"
   ]
  },
  {
   "cell_type": "code",
   "execution_count": null,
   "metadata": {
    "colab": {
     "base_uri": "https://localhost:8080/",
     "height": 312
    },
    "id": "5WFAQrCTzj7r",
    "outputId": "76a6a0ae-0c3b-4630-d104-aa0508fc9d58"
   },
   "outputs": [],
   "source": [
    "tf.keras.utils.plot_model(model, \"dnn_model.png\", show_shapes=True)"
   ]
  },
  {
   "cell_type": "markdown",
   "metadata": {
    "id": "5Op23J1EXXVC"
   },
   "source": [
    "## Defining callback functions and training the model"
   ]
  },
  {
   "cell_type": "code",
   "execution_count": null,
   "metadata": {
    "colab": {
     "base_uri": "https://localhost:8080/"
    },
    "id": "XAejv__1pFmj",
    "outputId": "088fb2a8-10f2-4cb7-e626-fad6eb0ada05",
    "scrolled": true
   },
   "outputs": [],
   "source": [
    "\n",
    "from tensorflow.keras.callbacks import EarlyStopping\n",
    "\n",
    "#Type your code here\n",
    "batch_size = \n",
    "epochs = \n",
    "\n",
    "#Early Stopping callback function\n",
    "\n",
    "\n",
    "\n",
    "\n",
    "\n",
    "# Starting the training\n",
    "history =  #calling model.fit()\n",
    "\n",
    "\n"
   ]
  },
  {
   "cell_type": "markdown",
   "metadata": {
    "id": "t_S7_G5zEnGb"
   },
   "source": [
    "# **Plotting the learning curves**"
   ]
  },
  {
   "cell_type": "code",
   "execution_count": null,
   "metadata": {
    "colab": {
     "base_uri": "https://localhost:8080/",
     "height": 364
    },
    "id": "rBeVKlEmL0uo",
    "outputId": "14492dd4-0f5b-45b1-e2a9-824886c867f9"
   },
   "outputs": [],
   "source": [
    "res = pd.DataFrame(history.history)\n",
    "res[['loss','val_loss']].plot()"
   ]
  },
  {
   "cell_type": "code",
   "execution_count": null,
   "metadata": {
    "colab": {
     "base_uri": "https://localhost:8080/",
     "height": 367
    },
    "id": "EKDlmrFsm24T",
    "outputId": "8f9c004f-e789-4d13-8a42-c06908f21be7"
   },
   "outputs": [],
   "source": [
    "res[['accuracy','val_accuracy']].plot()"
   ]
  },
  {
   "cell_type": "markdown",
   "metadata": {
    "id": "88aIDx-NmnK_"
   },
   "source": [
    "# **Model evaluation on the testing set**"
   ]
  },
  {
   "cell_type": "code",
   "execution_count": null,
   "metadata": {
    "colab": {
     "base_uri": "https://localhost:8080/"
    },
    "id": "Roh6t94BlV_P",
    "outputId": "3c435722-0774-4513-f0f0-1070dfdd2c37"
   },
   "outputs": [],
   "source": [
    "#Type your code here\n",
    "\n",
    "scores =    #calling model.evaluate()\n",
    "names = model.metrics_names\n",
    "\n",
    "for i in range(len(scores)):\n",
    "  print(f'{names[i]}: {scores[i]:.4f}')"
   ]
  },
  {
   "cell_type": "markdown",
   "metadata": {
    "id": "B9ljYYViFB8_"
   },
   "source": [
    "# Making predictions and plotting the result"
   ]
  },
  {
   "cell_type": "code",
   "execution_count": null,
   "metadata": {
    "colab": {
     "base_uri": "https://localhost:8080/"
    },
    "id": "re0iQ0MPaKgC",
    "outputId": "a326f1db-fb7d-40de-dc74-a15de20f30bc"
   },
   "outputs": [],
   "source": [
    "#Type your code here\n",
    "\n",
    "prediction =  #calling model.predict() here\n",
    "\n",
    "\n",
    "print(\n",
    "    f'sum: {np.sum(prediction, axis=1)}\\n'\n",
    "    f'predict index: {np.argmax(prediction, axis=1)}'\n",
    ")"
   ]
  },
  {
   "cell_type": "code",
   "execution_count": null,
   "metadata": {
    "colab": {
     "base_uri": "https://localhost:8080/",
     "height": 481
    },
    "id": "w2qA6thO8B3s",
    "outputId": "3222b9b6-e19a-4687-84c0-f3cdce70de2a"
   },
   "outputs": [],
   "source": [
    "figure = plt.figure(figsize=(20,8))\n",
    "\n",
    "for i, index in enumerate(np.random.choice(x_test.shape[0], size=15, replace=False)):\n",
    "    ax = figure.add_subplot(3, 5, i + 1, xticks=[], yticks=[])\n",
    "   \n",
    "    ax.imshow(x_test[index].reshape(28,28), cmap='gray')\n",
    "    predict_index = np.argmax(prediction[index])\n",
    "    true_index = np.argmax(test_one_hot[index])\n",
    "   \n",
    "    ax.set_title(\"{} ({})\".format(fashion_mnist_labels[predict_index], \n",
    "                fashion_mnist_labels[true_index]),\n",
    "                color=(\"green\" if predict_index == true_index else \"red\"))"
   ]
  },
  {
   "cell_type": "code",
   "execution_count": null,
   "metadata": {
    "id": "6B_JPoqj1ThG"
   },
   "outputs": [],
   "source": []
  }
 ],
 "metadata": {
  "accelerator": "GPU",
  "colab": {
   "collapsed_sections": [],
   "name": "Fashsion_MNIST(student_version).ipynb",
   "provenance": []
  },
  "kernelspec": {
   "display_name": "Python 3",
   "language": "python",
   "name": "python3"
  },
  "language_info": {
   "codemirror_mode": {
    "name": "ipython",
    "version": 3
   },
   "file_extension": ".py",
   "mimetype": "text/x-python",
   "name": "python",
   "nbconvert_exporter": "python",
   "pygments_lexer": "ipython3",
   "version": "3.8.8"
  }
 },
 "nbformat": 4,
 "nbformat_minor": 1
}
