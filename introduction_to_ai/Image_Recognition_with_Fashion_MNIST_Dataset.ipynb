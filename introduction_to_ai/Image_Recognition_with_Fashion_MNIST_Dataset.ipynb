{
  "nbformat": 4,
  "nbformat_minor": 0,
  "metadata": {
    "accelerator": "GPU",
    "colab": {
      "name": "Fashsion_MNIST(student_version).ipynb",
      "provenance": [],
      "collapsed_sections": []
    },
    "kernelspec": {
      "display_name": "Python 3",
      "language": "python",
      "name": "python3"
    },
    "language_info": {
      "codemirror_mode": {
        "name": "ipython",
        "version": 3
      },
      "file_extension": ".py",
      "mimetype": "text/x-python",
      "name": "python",
      "nbconvert_exporter": "python",
      "pygments_lexer": "ipython3",
      "version": "3.8.8"
    }
  },
  "cells": [
    {
      "cell_type": "markdown",
      "metadata": {
        "id": "v6nXJAWeRkac"
      },
      "source": [
        "# **Neural Network Model for the Fashion MNIST Dataset**"
      ]
    },
    {
      "cell_type": "markdown",
      "metadata": {
        "id": "AL2XktOgTb7q"
      },
      "source": [
        "In this notebook, we will implement a neural network model to recognize different fashion products in the Fashion MNIST dataset\n",
        "\n",
        "\\\n",
        "**Instruction: type your code when you see 'Type your code here' in comments**"
      ]
    },
    {
      "cell_type": "code",
      "metadata": {
        "colab": {
          "base_uri": "https://localhost:8080/"
        },
        "id": "9DiswJ1NHBbo",
        "outputId": "f879d3e3-446d-4a3d-a51a-8b63c17515ea"
      },
      "source": [
        "import tensorflow as tf\n",
        "\n",
        "print(\"Num GPUs Available: \", len(tf.config.list_physical_devices('GPU')))\n",
        "print('Tensorflow version:',tf.__version__)\n",
        "import numpy as np\n",
        "import pandas as pd\n",
        "from matplotlib import pyplot as plt\n",
        "\n",
        "import seaborn as sns\n",
        "plt.style.use('seaborn')\n",
        "\n",
        "import os\n",
        "print('Keras version:', tf.keras.__version__)"
      ],
      "execution_count": 1,
      "outputs": [
        {
          "output_type": "stream",
          "name": "stdout",
          "text": [
            "Num GPUs Available:  1\n",
            "Tensorflow version: 2.6.0\n",
            "Keras version: 2.6.0\n"
          ]
        }
      ]
    },
    {
      "cell_type": "markdown",
      "metadata": {
        "id": "XrsfftiFnrGB"
      },
      "source": [
        "# Loading the Fashion MNIST Dataset"
      ]
    },
    {
      "cell_type": "code",
      "metadata": {
        "id": "g5gUoWwWHWBU"
      },
      "source": [
        "(x_train, y_train), (x_test, y_test) = tf.keras.datasets.fashion_mnist.load_data()"
      ],
      "execution_count": 2,
      "outputs": []
    },
    {
      "cell_type": "code",
      "metadata": {
        "colab": {
          "base_uri": "https://localhost:8080/"
        },
        "id": "iFgSMzXpkwhN",
        "outputId": "14ae5492-a708-4223-818b-0f4586d00b34"
      },
      "source": [
        "print(f'Shape of an image: {x_train[0].shape}')\n",
        "print(f'Max pixel value: {x_train.max()}')\n",
        "print(f'Min pixel value: {x_train.min()}')\n",
        "print(f'Classes: {np.unique(y_train)}')"
      ],
      "execution_count": 4,
      "outputs": [
        {
          "output_type": "stream",
          "name": "stdout",
          "text": [
            "Shape of an image: (28, 28)\n",
            "Max pixel value: 255\n",
            "Min pixel value: 0\n",
            "Classes: [0 1 2 3 4 5 6 7 8 9]\n"
          ]
        }
      ]
    },
    {
      "cell_type": "code",
      "metadata": {
        "id": "crQSkyUtiawn"
      },
      "source": [
        "# Creating a list of labels\n",
        "\n",
        "fashion_mnist_labels = [\"T-shirt/top\", \n",
        "             \"Trouser\",\n",
        "             \"Pullover\",\n",
        "             \"Dress\",\n",
        "             \"Coat\",\n",
        "             \"Sandal\", \n",
        "             \"Shirt\",\n",
        "             \"Sneaker\",\n",
        "             \"Bag\",\n",
        "             \"Ankle boot\"]"
      ],
      "execution_count": 5,
      "outputs": []
    },
    {
      "cell_type": "markdown",
      "metadata": {
        "id": "ooZWvwRXkLdK"
      },
      "source": [
        "# Plotting some of the images"
      ]
    },
    {
      "cell_type": "code",
      "metadata": {
        "colab": {
          "base_uri": "https://localhost:8080/",
          "height": 398
        },
        "id": "x6JjaY2CifH_",
        "outputId": "b9bed63a-9a8b-4388-9649-ebab5244f9f0"
      },
      "source": [
        "figure = plt.figure(figsize=(20,8))\n",
        "\n",
        "indices = np.random.choice(np.arange(x_train.shape[0]), 15, replace=False)\n",
        "subset = x_train[indices]\n",
        "\n",
        "for i, image_sample in enumerate(subset):\n",
        "  ax = figure.add_subplot(3, 5, i + 1, xticks=[], yticks=[])\n",
        "  j = fashion_mnist_labels[y_train[indices[i]]] #image label\n",
        "  ax.set_title(j, fontsize=20)\n",
        "  ax.imshow(image_sample.reshape(28,28))\n",
        "  i+=1"
      ],
      "execution_count": 6,
      "outputs": [
        {
          "output_type": "display_data",
          "data": {
            "image/png": "[encoded data removed]",
            "text/plain": [
              "<Figure size 1440x576 with 15 Axes>"
            ]
          },
          "metadata": {}
        }
      ]
    },
    {
      "cell_type": "markdown",
      "metadata": {
        "id": "zgbPf6PLsOCy"
      },
      "source": [
        "# Count plot of the training set\n"
      ]
    },
    {
      "cell_type": "code",
      "metadata": {
        "colab": {
          "base_uri": "https://localhost:8080/",
          "height": 296
        },
        "id": "7odJ53x4pRlf",
        "outputId": "a7b3d466-86c5-4257-fb5f-e3994bed03d9"
      },
      "source": [
        "y_train_pd = pd.DataFrame(y_train, columns=['label'])\n",
        "sns.countplot(x='label', data=y_train_pd)"
      ],
      "execution_count": 7,
      "outputs": [
        {
          "output_type": "execute_result",
          "data": {
            "text/plain": [
              "<matplotlib.axes._subplots.AxesSubplot at 0x7fdad93018d0>"
            ]
          },
          "metadata": {},
          "execution_count": 7
        },
        {
          "output_type": "display_data",
          "data": {
            "image/png": "[encoded data removed]",
            "text/plain": [
              "<Figure size 432x288 with 1 Axes>"
            ]
          },
          "metadata": {
            "needs_background": "light"
          }
        }
      ]
    },
    {
      "cell_type": "markdown",
      "metadata": {
        "id": "Y7dHIp2nsT8w"
      },
      "source": [
        "# Count plot of the testing set\n"
      ]
    },
    {
      "cell_type": "code",
      "metadata": {
        "colab": {
          "base_uri": "https://localhost:8080/",
          "height": 296
        },
        "id": "eCGJoMnrsIzr",
        "outputId": "c29ae8c1-68b6-4921-9229-b62797412276"
      },
      "source": [
        "y_test_pd = pd.DataFrame(y_test, columns=['label'])\n",
        "sns.countplot(x='label', data=y_test_pd)"
      ],
      "execution_count": 8,
      "outputs": [
        {
          "output_type": "execute_result",
          "data": {
            "text/plain": [
              "<matplotlib.axes._subplots.AxesSubplot at 0x7fdad85fbfd0>"
            ]
          },
          "metadata": {},
          "execution_count": 8
        },
        {
          "output_type": "display_data",
          "data": {
            "image/png": "[encoded data removed]",
            "text/plain": [
              "<Figure size 432x288 with 1 Axes>"
            ]
          },
          "metadata": {
            "needs_background": "light"
          }
        }
      ]
    },
    {
      "cell_type": "code",
      "metadata": {
        "colab": {
          "base_uri": "https://localhost:8080/"
        },
        "id": "c-B6j1ZSIDue",
        "outputId": "d0c413ae-3bea-49bc-9808-f51b29a73cfe"
      },
      "source": [
        "#Type your code here\n",
        "\n",
        "x_train = x_train/255   #feature scaling (Hint:255 is the maximum pixel value)\n",
        "x_test =  x_test/255\n",
        "\n",
        "num_classes = 10 #no. of classes\n",
        "\n",
        "train_one_hot = tf.keras.utils.to_categorical(y_train, num_classes) #one hot encoding for the training set\n",
        "test_one_hot = tf.keras.utils.to_categorical(y_test, num_classes)  #one hot encdoing for the testing set\n",
        "\n",
        "print(y_train[0])\n",
        "print(train_one_hot[0])\n",
        "\n",
        "\n",
        "train_size = x_train.shape[0]\n",
        "test_size = x_test.shape[0]\n",
        "\n",
        "\n",
        "print(f'Max pixel value: {x_train.max()}')\n",
        "print(f'Min pixel value: {x_train.min()}')\n",
        "print(f'Train size: {train_size}, Test size: {test_size}')\n",
        "print(f'Train data shape: {x_train.shape}, Test data shape: {x_test.shape}')\n",
        "print(f'Train label shape: {train_one_hot.shape}, Test label shape: {test_one_hot.shape}')\n"
      ],
      "execution_count": 6,
      "outputs": [
        {
          "output_type": "stream",
          "name": "stdout",
          "text": [
            "9\n",
            "[0. 0. 0. 0. 0. 0. 0. 0. 0. 1.]\n",
            "Max pixel value: 1.0\n",
            "Min pixel value: 0.0\n",
            "Train size: 60000, Test size: 10000\n",
            "Train data shape: (60000, 784), Test data shape: (10000, 784)\n",
            "Train label shape: (60000, 10), Test label shape: (10000, 10)\n"
          ]
        }
      ]
    },
    {
      "cell_type": "markdown",
      "metadata": {
        "id": "bJc8aaaUGwWy"
      },
      "source": [
        "## Task: In this section, we are going to define our neural network model\n",
        "\n",
        "Implement a neural network according to the below figure, it consists of:\n",
        "\n",
        "1.   **an input layer**\n",
        "> Shape = INPUT_SHAPE\n",
        "2.   **a dense layer**\n",
        "> No. of hidden units = 100, Activation = 'relu'\n",
        "3.   **an output (dense) layer**\n",
        "> Activation = 'softmax'\n",
        "\n",
        "\n",
        "![](https://drive.google.com/uc?export=view&id=1k41hOCQY7QWB270IJ0VXo1cdMpZb6hmy)\n",
        "\n",
        "\n",
        "**Links to the documentation for your reference:**\n",
        "\n",
        "Input layer:\n",
        "https://www.tensorflow.org/api_docs/python/tf/keras/Input\n",
        "\n",
        "Dense layer:\n",
        "https://www.tensorflow.org/api_docs/python/tf/keras/layers/Dense\n",
        "\n",
        "\n",
        "\n",
        "\n",
        "\n",
        "\n",
        "\n"
      ]
    },
    {
      "cell_type": "markdown",
      "metadata": {
        "id": "JlzNjl1dR8fR"
      },
      "source": [
        "# **Model training**"
      ]
    },
    {
      "cell_type": "markdown",
      "metadata": {
        "id": "viLCm5A6ZKCi"
      },
      "source": [
        "### Softmax function\n",
        "\n"
      ]
    },
    {
      "cell_type": "markdown",
      "metadata": {
        "id": "-VEFqjYaS-Jw"
      },
      "source": [
        "At the output layer, the softmax function is used to normalize the output scores into probabilities:\n",
        "\n",
        "\n",
        "$$p_i = softmax(x_i) = \\frac{\\exp({y_i})}{ \\sum_{j=1}^n \\exp({y_j})}$$\n",
        "\n",
        "After applying the softmax function, the sum of the output probabilities will be 1:\n",
        " $$\\sum_{i=1}^n p_i = 1$$\n",
        "\n",
        "\n"
      ]
    },
    {
      "cell_type": "code",
      "metadata": {
        "colab": {
          "base_uri": "https://localhost:8080/"
        },
        "id": "tTaONtvVwOV-",
        "outputId": "0803898c-31ed-4879-e200-c342ce8aba0b"
      },
      "source": [
        "#Type your code here\n",
        "\n",
        "# Reshaping the data\n",
        "INPUT_SHAPE = [28*28]  #input shape for one image\n",
        "\n",
        "x_train = x_train.reshape([-1]+INPUT_SHAPE)\n",
        "x_test = x_test.reshape([-1]+INPUT_SHAPE)\n",
        "\n",
        "print(f'Train data shape: {x_train.shape}, Test data shape: {x_test.shape}')"
      ],
      "execution_count": 4,
      "outputs": [
        {
          "output_type": "stream",
          "name": "stdout",
          "text": [
            "Train data shape: (60000, 784), Test data shape: (10000, 784)\n"
          ]
        }
      ]
    },
    {
      "cell_type": "code",
      "metadata": {
        "colab": {
          "base_uri": "https://localhost:8080/"
        },
        "id": "V5LvQVyEx5OW",
        "outputId": "354e6b50-ba91-4b05-a315-191e71e07cff"
      },
      "source": [
        "from tensorflow.keras.layers import *\n",
        "\n",
        "\n",
        "tf.keras.backend.clear_session()\n",
        "\n",
        "#Type your code here\n",
        "\n",
        "#Define and compile your model\n",
        "#=============================================\n",
        "\n",
        "inputs = tf.keras.Input(shape=INPUT_SHAPE)\n",
        "\n",
        "x = Dense(units=100, activation='relu')(inputs)\n",
        "\n",
        "output = Dense(units=num_classes, activation='softmax')(x)\n",
        "\n",
        "\n",
        "model = tf.keras.Model(\n",
        "    inputs = inputs,\n",
        "    outputs = output,\n",
        "    name = \"dnn_mnist_model\"\n",
        ")\n",
        "\n",
        "#optimizer = \n",
        "\n",
        "model.compile()\n",
        "\n",
        "\n",
        "#=============================================\n",
        "model.summary()"
      ],
      "execution_count": 7,
      "outputs": [
        {
          "output_type": "stream",
          "name": "stdout",
          "text": [
            "Model: \"dnn_mnist_model\"\n",
            "_________________________________________________________________\n",
            "Layer (type)                 Output Shape              Param #   \n",
            "=================================================================\n",
            "input_1 (InputLayer)         [(None, 784)]             0         \n",
            "_________________________________________________________________\n",
            "dense (Dense)                (None, 100)               78500     \n",
            "_________________________________________________________________\n",
            "dense_1 (Dense)              (None, 10)                1010      \n",
            "=================================================================\n",
            "Total params: 79,510\n",
            "Trainable params: 79,510\n",
            "Non-trainable params: 0\n",
            "_________________________________________________________________\n"
          ]
        }
      ]
    },
    {
      "cell_type": "code",
      "metadata": {
        "colab": {
          "base_uri": "https://localhost:8080/",
          "height": 312
        },
        "id": "5WFAQrCTzj7r",
        "outputId": "4e7067f7-3322-4288-9d38-44e070771361"
      },
      "source": [
        "tf.keras.utils.plot_model(model, \"dnn_model.png\", show_shapes=True)"
      ],
      "execution_count": 8,
      "outputs": [
        {
          "output_type": "execute_result",
          "data": {
            "image/png": "[encoded data removed]",
            "text/plain": [
              "<IPython.core.display.Image object>"
            ]
          },
          "metadata": {},
          "execution_count": 8
        }
      ]
    },
    {
      "cell_type": "markdown",
      "metadata": {
        "id": "5Op23J1EXXVC"
      },
      "source": [
        "## Defining callback functions and training the model"
      ]
    },
    {
      "cell_type": "code",
      "metadata": {
        "id": "XAejv__1pFmj",
        "scrolled": true
      },
      "source": [
        "\n",
        "from tensorflow.keras.callbacks import EarlyStopping\n",
        "\n",
        "#Type your code here\n",
        "batch_size = \n",
        "epochs = \n",
        "\n",
        "#Early Stopping callback function\n",
        "\n",
        "\n",
        "\n",
        "\n",
        "\n",
        "# Starting the training\n",
        "history =  #calling model.fit()\n",
        "\n",
        "\n"
      ],
      "execution_count": null,
      "outputs": []
    },
    {
      "cell_type": "markdown",
      "metadata": {
        "id": "t_S7_G5zEnGb"
      },
      "source": [
        "# **Plotting the learning curves**"
      ]
    },
    {
      "cell_type": "code",
      "metadata": {
        "id": "rBeVKlEmL0uo"
      },
      "source": [
        "res = pd.DataFrame(history.history)\n",
        "res[['loss','val_loss']].plot()"
      ],
      "execution_count": null,
      "outputs": []
    },
    {
      "cell_type": "code",
      "metadata": {
        "id": "EKDlmrFsm24T"
      },
      "source": [
        "res[['accuracy','val_accuracy']].plot()"
      ],
      "execution_count": null,
      "outputs": []
    },
    {
      "cell_type": "markdown",
      "metadata": {
        "id": "88aIDx-NmnK_"
      },
      "source": [
        "# **Model evaluation on the testing set**"
      ]
    },
    {
      "cell_type": "code",
      "metadata": {
        "id": "Roh6t94BlV_P"
      },
      "source": [
        "#Type your code here\n",
        "\n",
        "scores =    #calling model.evaluate()\n",
        "names = model.metrics_names\n",
        "\n",
        "for i in range(len(scores)):\n",
        "  print(f'{names[i]}: {scores[i]:.4f}')"
      ],
      "execution_count": null,
      "outputs": []
    },
    {
      "cell_type": "markdown",
      "metadata": {
        "id": "B9ljYYViFB8_"
      },
      "source": [
        "# Making predictions and plotting the result"
      ]
    },
    {
      "cell_type": "code",
      "metadata": {
        "id": "re0iQ0MPaKgC"
      },
      "source": [
        "#Type your code here\n",
        "\n",
        "prediction =  #calling model.predict() here\n",
        "\n",
        "\n",
        "print(\n",
        "    f'sum: {np.sum(prediction, axis=1)}\\n'\n",
        "    f'predict index: {np.argmax(prediction, axis=1)}'\n",
        ")"
      ],
      "execution_count": null,
      "outputs": []
    },
    {
      "cell_type": "code",
      "metadata": {
        "id": "w2qA6thO8B3s"
      },
      "source": [
        "figure = plt.figure(figsize=(20,8))\n",
        "\n",
        "for i, index in enumerate(np.random.choice(x_test.shape[0], size=15, replace=False)):\n",
        "    ax = figure.add_subplot(3, 5, i + 1, xticks=[], yticks=[])\n",
        "   \n",
        "    ax.imshow(x_test[index].reshape(28,28), cmap='gray')\n",
        "    predict_index = np.argmax(prediction[index])\n",
        "    true_index = np.argmax(test_one_hot[index])\n",
        "   \n",
        "    ax.set_title(\"{} ({})\".format(fashion_mnist_labels[predict_index], \n",
        "                fashion_mnist_labels[true_index]),\n",
        "                color=(\"green\" if predict_index == true_index else \"red\"))"
      ],
      "execution_count": null,
      "outputs": []
    },
    {
      "cell_type": "code",
      "metadata": {
        "id": "6B_JPoqj1ThG"
      },
      "source": [
        ""
      ],
      "execution_count": null,
      "outputs": []
    }
  ]
}