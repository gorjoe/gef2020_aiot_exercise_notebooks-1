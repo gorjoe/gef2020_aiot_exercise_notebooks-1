{
 "cells": [
  {
   "cell_type": "markdown",
   "metadata": {},
   "source": [
    "# PYNQ - Hello World\n",
    "\n",
    "CityU EE x GEF AIot Program"
   ]
  },
  {
   "cell_type": "markdown",
   "metadata": {},
   "source": [
    "## Buttons and LEDs Task\n",
    "\n",
    "Try to use push-buttons (BTN0-3), LEDs (LD0-3), and RGB LEDs (LD4-5) on the board. \n",
    "\n",
    "Your finally program should be able to do the following to control the LEDs or RGB LEDs:\n",
    "    \n",
    "    Button 0 pressed:        RGB LEDs change color (8 Different Color).\n",
    "    Button 1 pressed:        LEDs light up from right to left (LD0 -> LD3).\n",
    "    Button 2 pressed:        LEDs light up from left to right (LD3 -> LD0).\n",
    "    Button 3 pressed:        Turns off all the LEDS and ends this demo.\n",
    " "
   ]
  },
  {
   "cell_type": "code",
   "execution_count": null,
   "metadata": {
    "scrolled": true
   },
   "outputs": [],
   "source": [
    "from time import sleep\n",
    "from pynq.overlays.base import BaseOverlay\n",
    "\n",
    "base = BaseOverlay(\"base.bit\")\n",
    "\n",
    "#Write your code here\n",
    "\n"
   ]
  }
 ],
 "metadata": {
  "kernelspec": {
   "display_name": "Python 3",
   "language": "python",
   "name": "python3"
  },
  "language_info": {
   "codemirror_mode": {
    "name": "ipython",
    "version": 3
   },
   "file_extension": ".py",
   "mimetype": "text/x-python",
   "name": "python",
   "nbconvert_exporter": "python",
   "pygments_lexer": "ipython3",
   "version": "3.6.5"
  }
 },
 "nbformat": 4,
 "nbformat_minor": 1
}
